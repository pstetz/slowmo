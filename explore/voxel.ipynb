{
 "cells": [
  {
   "cell_type": "markdown",
   "metadata": {},
   "source": [
    "# Intro\n",
    "\n",
    "This plots the voxel time series"
   ]
  },
  {
   "cell_type": "markdown",
   "metadata": {},
   "source": [
    "### Imports"
   ]
  },
  {
   "cell_type": "code",
   "execution_count": 1,
   "metadata": {},
   "outputs": [
    {
     "name": "stderr",
     "output_type": "stream",
     "text": [
      "/anaconda3/lib/python3.6/site-packages/h5py/__init__.py:34: FutureWarning: Conversion of the second argument of issubdtype from `float` to `np.floating` is deprecated. In future, it will be treated as `np.float64 == np.dtype(float).type`.\n",
      "  from ._conv import register_converters as _register_converters\n"
     ]
    }
   ],
   "source": [
    "import os\n",
    "import numpy as np\n",
    "import pandas as pd\n",
    "import nibabel as nib\n",
    "\n",
    "from glob import glob\n",
    "from os.path import join\n",
    "\n",
    "import matplotlib.pyplot as plt\n",
    "import seaborn as sns\n",
    "%matplotlib inline\n",
    "sns.set()"
   ]
  },
  {
   "cell_type": "markdown",
   "metadata": {},
   "source": [
    "### Settings"
   ]
  },
  {
   "cell_type": "code",
   "execution_count": 6,
   "metadata": {},
   "outputs": [],
   "source": [
    "nii = \"/Volumes/group/PANLab_Datasets/ENGAGE_2/data/ENG000080/2MO_data_archive/100_fMRI/101_fMRI_preproc_GO_NO_GO/wa01_normalized_func_data.nii.gz\"\n",
    "image = nib.load(nii)\n",
    "data = image.get_data()"
   ]
  },
  {
   "cell_type": "markdown",
   "metadata": {},
   "source": [
    "### Helper functions"
   ]
  },
  {
   "cell_type": "code",
   "execution_count": 25,
   "metadata": {},
   "outputs": [],
   "source": [
    "def _find_midpoint(data):\n",
    "    \"\"\" Gets the midpoint coordinates of brain data \"\"\"\n",
    "    shape = data.shape\n",
    "    x_mid = shape[0] // 2\n",
    "    y_mid = shape[1] // 2\n",
    "    z_mid = shape[2] // 2\n",
    "    return (x_mid, y_mid, z_mid)\n",
    "\n",
    "def _plot(data, coords=None, TR=2, figsize=None):\n",
    "    ### Set coords if necessary\n",
    "    if coords is None:\n",
    "        coords = _find_midpoint(data)\n",
    "    \n",
    "    ### Styling\n",
    "    if figsize is None:\n",
    "        figsize = (14, 8)\n",
    "    plt.figure(figsize=figsize)\n",
    "    \n",
    "    ### Labeling\n",
    "    coords_str = \"x=%d, y=%d, z=%d\" % (coords[0], coords[1], coords[2])\n",
    "    plt.title(\"BOLD signal over time for \" + coords_str)\n",
    "    plt.xlabel(\"Time point (Seconds)\")\n",
    "    plt.ylabel(\"BOLD signal\")\n",
    "    \n",
    "    ### Plotting\n",
    "    x = list(range(data.shape[3]))\n",
    "    x = [TR * elem for elem in x]\n",
    "    y = data[coords[0], coords[1], coords[2], :]\n",
    "    plt.plot(x, y)\n",
    "    plt.show();"
   ]
  },
  {
   "cell_type": "markdown",
   "metadata": {},
   "source": [
    "### Sample different voxels"
   ]
  },
  {
   "cell_type": "code",
   "execution_count": 1,
   "metadata": {
    "scrolled": false
   },
   "outputs": [],
   "source": [
    "num_runs = 5\n",
    "\n",
    "for _ in range(num_runs):\n",
    "    figsize = (6, 4)\n",
    "    x = np.random.randint(0, data.shape[0])\n",
    "    y = np.random.randint(0, data.shape[1])\n",
    "    z = np.random.randint(0, data.shape[2])\n",
    "    _plot(data, coords=(x, y, z), figsize=figsize)"
   ]
  },
  {
   "cell_type": "code",
   "execution_count": null,
   "metadata": {
    "collapsed": true
   },
   "outputs": [],
   "source": []
  }
 ],
 "metadata": {
  "kernelspec": {
   "display_name": "Python 3",
   "language": "python",
   "name": "python3"
  },
  "language_info": {
   "codemirror_mode": {
    "name": "ipython",
    "version": 3
   },
   "file_extension": ".py",
   "mimetype": "text/x-python",
   "name": "python",
   "nbconvert_exporter": "python",
   "pygments_lexer": "ipython3",
   "version": "3.7.3"
  }
 },
 "nbformat": 4,
 "nbformat_minor": 2
}
