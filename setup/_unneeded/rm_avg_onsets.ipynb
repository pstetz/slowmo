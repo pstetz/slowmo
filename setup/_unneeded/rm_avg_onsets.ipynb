{
 "cells": [
  {
   "cell_type": "markdown",
   "metadata": {},
   "source": [
    "### Imports"
   ]
  },
  {
   "cell_type": "code",
   "execution_count": null,
   "metadata": {},
   "outputs": [],
   "source": [
    "import os\n",
    "import pandas as pd\n",
    "from glob import glob\n",
    "from os.path import join"
   ]
  },
  {
   "cell_type": "markdown",
   "metadata": {},
   "source": [
    "### Helpers"
   ]
  },
  {
   "cell_type": "code",
   "execution_count": null,
   "metadata": {},
   "outputs": [],
   "source": [
    "def _task_map():\n",
    "    _map = {\n",
    "        1: \"gonogo\",\n",
    "        3: \"conscious\",\n",
    "        5: \"nonconscious\",\n",
    "    }\n",
    "    return _map\n",
    "\n",
    "def _time_map():\n",
    "    _map = {\n",
    "        1: \"000\",\n",
    "        2: \"2MO\",\n",
    "        3: \"6MO\",\n",
    "        4: \"12MO\",\n",
    "        5: \"24MO\"\n",
    "    }\n",
    "    return _map"
   ]
  },
  {
   "cell_type": "markdown",
   "metadata": {},
   "source": [
    "### Main"
   ]
  },
  {
   "cell_type": "code",
   "execution_count": null,
   "metadata": {},
   "outputs": [],
   "source": [
    "root = \"/Volumes/hd_4tb/raw\"\n",
    "for csv in glob(\"/Volumes/hd_4tb/project/average_onsets/*\"):\n",
    "    project = os.path.basename(csv).split(\"_\")[0]\n",
    "    df = pd.read_csv(csv)\n",
    "    for subject in df.subject.unique():\n",
    "        subject_row = df[df[\"subject\"] == subject]\n",
    "        subject = subject.lower()\n",
    "        for session in subject_row.time_session.unique():\n",
    "            if project == \"engage\":\n",
    "                time_session = session.split(\"_\")[0]\n",
    "            else:\n",
    "                time_session = _time_map()[session]\n",
    "            session_row = subject_row[subject_row[\"time_session\"] == session]\n",
    "            for tasknum in session_row.task.unique():\n",
    "                task = _task_map()[tasknum]\n",
    "                task_path = join(root, project, time_session, subject, task)\n",
    "                if not os.path.isdir(task_path):\n",
    "                    continue\n",
    "                for onset_path in glob(join(task_path, \"*.csv\")):\n",
    "                    os.remove(onset_path)"
   ]
  }
 ],
 "metadata": {
  "kernelspec": {
   "display_name": "Python 3",
   "language": "python",
   "name": "python3"
  },
  "language_info": {
   "codemirror_mode": {
    "name": "ipython",
    "version": 3
   },
   "file_extension": ".py",
   "mimetype": "text/x-python",
   "name": "python",
   "nbconvert_exporter": "python",
   "pygments_lexer": "ipython3",
   "version": "3.7.3"
  }
 },
 "nbformat": 4,
 "nbformat_minor": 2
}
