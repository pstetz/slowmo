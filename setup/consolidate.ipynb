{
 "cells": [
  {
   "cell_type": "markdown",
   "metadata": {},
   "source": [
    "### Imports"
   ]
  },
  {
   "cell_type": "code",
   "execution_count": 1,
   "metadata": {},
   "outputs": [],
   "source": [
    "import os\n",
    "import numpy as np\n",
    "import pandas as pd\n",
    "from os.path import join\n",
    "from glob import glob\n",
    "from tqdm import tqdm_notebook as tqdm"
   ]
  },
  {
   "cell_type": "markdown",
   "metadata": {},
   "source": [
    "### Movement"
   ]
  },
  {
   "cell_type": "code",
   "execution_count": 2,
   "metadata": {},
   "outputs": [],
   "source": [
    "def _project(filename):\n",
    "    return filename.split(\"_\")[0].lower()\n",
    "\n",
    "def _session(filename):\n",
    "    return filename.split(\"_\")[-2]\n",
    "\n",
    "def _task(filename):\n",
    "    task = \"_\".join(filename.split(\"_\")[2:-2])\n",
    "    task = task.lower().replace(\"-\", \"\").replace(\"_\", \"\")\n",
    "    task = task.replace(\"faces\", \"\")\n",
    "    return task\n",
    "\n",
    "def _movement(filepath, project, session, task, col=\"VAR1_FD1_DiscardedVols\"):\n",
    "    df = pd.read_csv(filepath, index_col=\"subNum\")\n",
    "    movement = pd.DataFrame(df.copy()[col])\n",
    "    movement[\"project\"] = project\n",
    "    movement[\"session\"] = session\n",
    "    movement[\"task\"] = task\n",
    "    return movement\n",
    "\n",
    "movement_root = \"/Volumes/hd_4tb/project/movement\"\n",
    "files = glob(join(movement_root, \"*MovesMat*\"))\n",
    "df = list()\n",
    "for filepath in files:\n",
    "    filename = os.path.basename(filepath)\n",
    "    project = _project(filename)\n",
    "    session = _session(filename)\n",
    "    task = _task(filename)\n",
    "    if task not in [\"gonogo\", \"conscious\", \"nonconscious\"]:\n",
    "        continue\n",
    "    try:\n",
    "        movement = _movement(filepath, project, session, task)\n",
    "    except:\n",
    "        print(filepath)\n",
    "    df.append(movement)\n",
    "    \n",
    "pd.concat(df).to_csv(join(movement_root, \"all.csv\"))"
   ]
  },
  {
   "cell_type": "code",
   "execution_count": null,
   "metadata": {},
   "outputs": [],
   "source": []
  }
 ],
 "metadata": {
  "kernelspec": {
   "display_name": "Python 3",
   "language": "python",
   "name": "python3"
  },
  "language_info": {
   "codemirror_mode": {
    "name": "ipython",
    "version": 3
   },
   "file_extension": ".py",
   "mimetype": "text/x-python",
   "name": "python",
   "nbconvert_exporter": "python",
   "pygments_lexer": "ipython3",
   "version": "3.7.3"
  }
 },
 "nbformat": 4,
 "nbformat_minor": 2
}
