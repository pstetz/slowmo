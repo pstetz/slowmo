{
 "cells": [
  {
   "cell_type": "markdown",
   "metadata": {},
   "source": [
    "### Imports"
   ]
  },
  {
   "cell_type": "code",
   "execution_count": 23,
   "metadata": {},
   "outputs": [],
   "source": [
    "import os\n",
    "import flywheel\n",
    "import pandas as pd\n",
    "from glob import glob\n",
    "from os.path import join\n",
    "import nibabel as nib\n",
    "from tqdm import tqdm_notebook as tqdm"
   ]
  },
  {
   "cell_type": "markdown",
   "metadata": {},
   "source": [
    "### Setup"
   ]
  },
  {
   "cell_type": "code",
   "execution_count": 24,
   "metadata": {},
   "outputs": [],
   "source": [
    "API_KEY = os.environ[\"FLYWHEEL_API\"]\n",
    "fw = flywheel.Flywheel(API_KEY)"
   ]
  },
  {
   "cell_type": "markdown",
   "metadata": {},
   "source": [
    "### Create project CSV"
   ]
  },
  {
   "cell_type": "code",
   "execution_count": 14,
   "metadata": {},
   "outputs": [],
   "source": [
    "dfs = list()\n",
    "\n",
    "for project in [\"engage\", \"engage2\", \"connectome\", \"rad\"]:    \n",
    "    df = pd.read_csv(\"/Volumes/hd_4tb/project/slice_timing/%s_slice_timing.csv\" % project)\n",
    "    df.rename(columns={\"subNum\": \"subject\", \"timeSession\": \"session\"}, inplace=True)\n",
    "    df[\"project\"] = project\n",
    "    df = df[[\"project\", \"subject\", \"session\", \"task\", \"order\"]]\n",
    "    df.sort_values([\"subject\", \"session\", \"task\"], inplace=True)\n",
    "    dfs.append(df)\n",
    "\n",
    "df = pd.concat(dfs)\n",
    "df.drop_duplicates(inplace=True)\n",
    "df.to_csv(\"/Volumes/hd_4tb/project/all.csv\", index=False)"
   ]
  },
  {
   "cell_type": "markdown",
   "metadata": {},
   "source": [
    "# Flywheel information"
   ]
  },
  {
   "cell_type": "markdown",
   "metadata": {},
   "source": [
    "### Helpers"
   ]
  },
  {
   "cell_type": "markdown",
   "metadata": {},
   "source": [
    "### Time session"
   ]
  },
  {
   "cell_type": "code",
   "execution_count": 25,
   "metadata": {},
   "outputs": [],
   "source": [
    "def _time_map():\n",
    "    _map = {\n",
    "        \"bv\":   \"000\",\n",
    "        \"2mo\":  \"2MO\",\n",
    "        \"6mo\":  \"6MO\",\n",
    "        \"12mo\": \"12MO\",\n",
    "        \"24mo\": \"24MO\"\n",
    "    }\n",
    "    return _map\n",
    "\n",
    "def _engage_time(subject_id):\n",
    "    for time_session in [\"bv\", \"24mo\", \"12mo\", \"6mo\", \"2mo\"]:\n",
    "        if subject_id.lower().endswith(time_session):\n",
    "            return _time_map()[time_session]\n",
    "    return \"000\"\n",
    "\n",
    "def _rad_time(subject_id):\n",
    "    if subject_id.endswith(\"-2\"):\n",
    "        return \"2MO\"\n",
    "    return \"000\"\n",
    "\n",
    "def _narrow_by_session(sessions, project, time_session):\n",
    "    project_label = project.label.lower()\n",
    "    if project_label == \"engage\":\n",
    "        sessions = [s for s in sessions if _engage_time(s.subject.code) == time_session]\n",
    "    elif project_label == \"rad\":\n",
    "        sessions = [s for s in sessions if _rad_time(s.subject.code) == time_session]\n",
    "    elif project_label == \"connectome\":\n",
    "        if time_session == \"000\":\n",
    "            sessions = [s for s in sessions if len(fw.get_session(s.id).tags) == 0]\n",
    "        else:\n",
    "            sessions = [s for s in sessions if fw.get_session(s.id).tags and fw.get_session(s.id).tags.pop().upper() == time_session]\n",
    "    return sessions"
   ]
  },
  {
   "cell_type": "markdown",
   "metadata": {},
   "source": [
    "### Project / subject"
   ]
  },
  {
   "cell_type": "code",
   "execution_count": 26,
   "metadata": {},
   "outputs": [],
   "source": [
    "def _subject_format(subject):\n",
    "    if subject.startswith(\"rad\"):\n",
    "        return subject.replace(\"rad\", \"\")\n",
    "    return subject\n",
    "\n",
    "def _narrow_by_subject(sessions, subject):\n",
    "    subject = _subject_format(subject)\n",
    "    sessions = [s for s in sessions if subject in s.subject.code.lower()]\n",
    "    return sessions\n",
    "\n",
    "def _project_map():\n",
    "    _map = {\n",
    "        \"connhc\":  \"connectome\",\n",
    "        \"connmdd\": \"connectome\",\n",
    "        \"engage\":  \"engage\",\n",
    "        \"rad\":     \"rad\",\n",
    "    }\n",
    "    return _map"
   ]
  },
  {
   "cell_type": "markdown",
   "metadata": {},
   "source": [
    "### Task"
   ]
  },
  {
   "cell_type": "code",
   "execution_count": 27,
   "metadata": {},
   "outputs": [],
   "source": [
    "def _task_map():\n",
    "    _map = {\n",
    "        \"gonogo\":       \"go_no_go\",\n",
    "        \"conscious\":    \"conscious\",\n",
    "        \"nonconscious\": \"nonconscious\",\n",
    "        \"workingmemMB\": \"tfmri_wm\",\n",
    "    }\n",
    "    return _map\n",
    "\n",
    "def _task_match(task, acq_label):\n",
    "    label = acq_label.lower().replace(\"-\", \"_\").replace(\" \", \"_\")\n",
    "    search = _task_map()[task]\n",
    "    if search == \"conscious\" and \"nonconscious\" in label:\n",
    "        return False\n",
    "    if search in label:\n",
    "        return True\n",
    "    return False\n",
    "\n",
    "def _narrow_by_task(fw, sessions, task):\n",
    "    acqs = list()\n",
    "    for session in sessions:\n",
    "        for acq in fw.get_session_acquisitions(session.id):\n",
    "            if _task_match(task, acq.label):\n",
    "                acqs.append(acq)\n",
    "    return acqs"
   ]
  },
  {
   "cell_type": "markdown",
   "metadata": {},
   "source": [
    "### Info\n",
    "\n",
    "- operator, TR, datetime, weight, session label, slice thickness"
   ]
  },
  {
   "cell_type": "code",
   "execution_count": 60,
   "metadata": {},
   "outputs": [],
   "source": [
    "def _safe_add(_dict1, _dict2, _keys):\n",
    "    for i in range(len(_keys) - 1):\n",
    "        k = _keys[i]\n",
    "        if k in _dict2:\n",
    "            _dict2 = _dict2[k]\n",
    "    k = _keys[-1]\n",
    "    if k in _dict2:\n",
    "        _dict1[k] = _dict2[k]\n",
    "\n",
    "def _get_dicom(acq):\n",
    "    files = acq[\"files\"]\n",
    "    dicoms = [f for f in files if f.name.endswith(\".dicom.zip\")]\n",
    "    if len(dicoms) == 1:\n",
    "        return dicoms.pop()\n",
    "    return False\n",
    "        \n",
    "def _get_info(fw, acq):\n",
    "    info = dict()\n",
    "    acq = fw.get_acquisition(acq.id)\n",
    "    session = fw.get_session(acq.session)\n",
    "    dicom = _get_dicom(acq)\n",
    "    info[\"id\"] = acq.id\n",
    "    info[\"label\"] = acq.label\n",
    "    info[\"session_id\"] = session.id\n",
    "    info[\"session_label\"] = session.label\n",
    "    info[\"operator\"] = session.operator\n",
    "    info[\"weight\"] = session[\"weight\"]\n",
    "    if dicom:\n",
    "        for feature in [\n",
    "            \"SliceLocation\", \"TriggerTime\", \"EchoTime\",\n",
    "            \"AcquisitionDate\", \"AcquisitionTime\",\n",
    "            \"SliceThickness\", \"ReconstructionDiameter\",\n",
    "            \"SeriesDescription\", \"InPlanePhaseEncodingDirection\",\n",
    "            \"FlipAngle\", \"MagneticFieldStrength\",\n",
    "            \"RepetitionTime\", \"BitsStored\", \"SAR\"\n",
    "            \"ImagingFrequency\", \"ReceiveCoilName\",\n",
    "            \"ScanningSequence\"\n",
    "        ]:\n",
    "            _safe_add(info, dicom, [\"info\", feature])\n",
    "    return info\n",
    "\n",
    "def get_fw_info(fw, sessions, project, time_session, subject, task):\n",
    "    \"\"\" Include p50, brave, unfear, mket, tms? \"\"\"\n",
    "    sessions = _narrow_by_subject(sessions, subject)\n",
    "    if len(sessions) == 0:\n",
    "        return False\n",
    "    sessions = _narrow_by_session(sessions, project, time_session)\n",
    "    if len(sessions) == 0:\n",
    "        return False\n",
    "    acqs = _narrow_by_task(fw, sessions, task)\n",
    "    if len(acqs) == 0:\n",
    "        return False\n",
    "    if len(acqs) > 1:\n",
    "        print(\"Multiple acqs\", project, time_session, subject, task)\n",
    "        return False\n",
    "    info = _get_info(fw, acqs.pop())\n",
    "    info[\"project\"] = project\n",
    "    info[\"time_session\"] = time_session\n",
    "    info[\"subject\"] = subject\n",
    "    info[\"task\"] = task\n",
    "    return info"
   ]
  },
  {
   "cell_type": "markdown",
   "metadata": {},
   "source": [
    "### Main"
   ]
  },
  {
   "cell_type": "code",
   "execution_count": null,
   "metadata": {},
   "outputs": [
    {
     "data": {
      "application/vnd.jupyter.widget-view+json": {
       "model_id": "768732347bcf40d885b71bb24405cc84",
       "version_major": 2,
       "version_minor": 0
      },
      "text/plain": [
       "HBox(children=(IntProgress(value=0, max=79), HTML(value='')))"
      ]
     },
     "metadata": {},
     "output_type": "display_data"
    }
   ],
   "source": [
    "root = \"/Volumes/hd_4tb/raw/\"\n",
    "df = list()\n",
    "for project_path in glob(join(root, \"*\")):\n",
    "    project = os.path.basename(project_path)\n",
    "    if project == \"engage2\":\n",
    "        continue # deal with engage2 later\n",
    "        \n",
    "    ### Flywheel setup\n",
    "    project = _project_map()[project]\n",
    "    project = [p for p in fw.get_all_projects() if p.label.lower() == project][0]\n",
    "    sessions = fw.get_project_sessions(project.id)\n",
    "    \n",
    "    ### Main loop\n",
    "    for time_path in glob(join(project_path, \"*\")):\n",
    "        time_session = os.path.basename(time_path)\n",
    "        for subject_path in tqdm(glob(join(time_path, \"*\"))):\n",
    "            subject = os.path.basename(subject_path)\n",
    "            for task_path in glob(join(subject_path, \"*\")):\n",
    "                task = os.path.basename(task_path)\n",
    "                if task == \"structural\":\n",
    "                    continue\n",
    "                info = get_fw_info(fw, sessions, project, time_session, subject, task)\n",
    "                if not info:\n",
    "                    continue\n",
    "                df.append(info)"
   ]
  },
  {
   "cell_type": "markdown",
   "metadata": {},
   "source": [
    "### Inconsistent slice order\n",
    "\n",
    "This isn't very fast or efficient"
   ]
  },
  {
   "cell_type": "code",
   "execution_count": 4,
   "metadata": {},
   "outputs": [
    {
     "data": {
      "application/vnd.jupyter.widget-view+json": {
       "model_id": "ec3e97d13a374e958b34ce047bbd3381",
       "version_major": 2,
       "version_minor": 0
      },
      "text/plain": [
       "HBox(children=(IntProgress(value=0, max=112), HTML(value='')))"
      ]
     },
     "metadata": {},
     "output_type": "display_data"
    },
    {
     "name": "stdout",
     "output_type": "stream",
     "text": [
      "\n"
     ]
    },
    {
     "data": {
      "application/vnd.jupyter.widget-view+json": {
       "model_id": "ed93cbcc597c4b69beba2beb75c6403b",
       "version_major": 2,
       "version_minor": 0
      },
      "text/plain": [
       "HBox(children=(IntProgress(value=0, max=65), HTML(value='')))"
      ]
     },
     "metadata": {},
     "output_type": "display_data"
    },
    {
     "name": "stdout",
     "output_type": "stream",
     "text": [
      "\n"
     ]
    },
    {
     "data": {
      "application/vnd.jupyter.widget-view+json": {
       "model_id": "902f398fabd94214a7d10c58b2b89ba8",
       "version_major": 2,
       "version_minor": 0
      },
      "text/plain": [
       "HBox(children=(IntProgress(value=0, max=198), HTML(value='')))"
      ]
     },
     "metadata": {},
     "output_type": "display_data"
    },
    {
     "name": "stdout",
     "output_type": "stream",
     "text": [
      "connectome CONN122 1 16\n",
      "connectome CONN122 1 16\n",
      "connectome CONN122 1 16\n",
      "connectome CONN122 1 16\n",
      "connectome CONN122 1 16\n",
      "connectome CONN122 1 16\n",
      "connectome CONN122 1 16\n",
      "\n"
     ]
    },
    {
     "data": {
      "application/vnd.jupyter.widget-view+json": {
       "model_id": "5b80340367c34deaba819b1f635f8885",
       "version_major": 2,
       "version_minor": 0
      },
      "text/plain": [
       "HBox(children=(IntProgress(value=0, max=331), HTML(value='')))"
      ]
     },
     "metadata": {},
     "output_type": "display_data"
    },
    {
     "name": "stdout",
     "output_type": "stream",
     "text": [
      "rad RAD_333 1 3\n",
      "rad RAD_333 1 5\n",
      "rad RAD_333 1 3\n",
      "rad RAD_333 1 5\n",
      "rad RAD_333 1 3\n",
      "rad RAD_333 1 5\n",
      "rad RAD_333 1 3\n",
      "rad RAD_333 1 5\n",
      "rad RAD_333 1 3\n",
      "rad RAD_333 1 5\n",
      "\n"
     ]
    }
   ],
   "source": [
    "df = pd.read_csv(\"/Volumes/hd_4tb/project/all.csv\")\n",
    "for project in df[\"project\"].unique():\n",
    "    p_df = df.copy()\n",
    "    p_df = p_df[p_df[\"project\"] == project]\n",
    "    for subject in tqdm(p_df[\"subject\"].unique()):\n",
    "        s_df = p_df.copy()\n",
    "        s_df = s_df[s_df[\"subject\"] == subject]\n",
    "        for time_session in s_df[\"session\"]:\n",
    "            t_df = s_df.copy()\n",
    "            t_df = t_df[t_df[\"session\"] == time_session]\n",
    "            for task in t_df[\"task\"].unique():\n",
    "                tmp = t_df.copy()\n",
    "                tmp = tmp[tmp[\"task\"] == task]\n",
    "                if tmp[\"order\"].nunique() != 1:\n",
    "                    print(project, subject, time_session, task)"
   ]
  },
  {
   "cell_type": "markdown",
   "metadata": {},
   "source": [
    "### ENGAGE 2\n",
    "\n",
    "The relevant information needs to be gathered from the dicoms"
   ]
  },
  {
   "cell_type": "code",
   "execution_count": null,
   "metadata": {},
   "outputs": [],
   "source": []
  }
 ],
 "metadata": {
  "kernelspec": {
   "display_name": "Python 3",
   "language": "python",
   "name": "python3"
  },
  "language_info": {
   "codemirror_mode": {
    "name": "ipython",
    "version": 3
   },
   "file_extension": ".py",
   "mimetype": "text/x-python",
   "name": "python",
   "nbconvert_exporter": "python",
   "pygments_lexer": "ipython3",
   "version": "3.7.3"
  }
 },
 "nbformat": 4,
 "nbformat_minor": 2
}
