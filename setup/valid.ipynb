{
 "cells": [
  {
   "cell_type": "markdown",
   "metadata": {},
   "source": [
    "### Imports"
   ]
  },
  {
   "cell_type": "code",
   "execution_count": 1,
   "metadata": {},
   "outputs": [],
   "source": [
    "import os\n",
    "import pandas as pd\n",
    "from glob import glob\n",
    "from os.path import join\n",
    "from tqdm import tqdm_notebook as tqdm"
   ]
  },
  {
   "cell_type": "markdown",
   "metadata": {},
   "source": [
    "### Helpers"
   ]
  },
  {
   "cell_type": "code",
   "execution_count": 2,
   "metadata": {},
   "outputs": [],
   "source": [
    "def _files_exist(folder, filenames):\n",
    "    for filename in filenames:\n",
    "        filepath = join(folder, filename)\n",
    "        if not os.path.isfile(filepath):\n",
    "            return False\n",
    "    return True\n",
    "\n",
    "def _has_structural(subject_path):\n",
    "    needed = [\"gm_probseg.nii.gz\", \"subject_to_MNI_warp.nii.gz\"]\n",
    "    return _files_exist(join(subject_path, \"structural\"), needed)\n",
    "\n",
    "def _get_tasks(subject_path):\n",
    "    tasks = glob(join(subject_path, \"*\"))\n",
    "    tasks = [os.path.basename(task_path) for task_path in tasks]\n",
    "    return [task for task in tasks if task != \"structural\"]\n",
    "\n",
    "def _validate_subject_task(subject_path, task):\n",
    "    needed = [\"onsets.csv\", \"normalized.nii.gz\"]\n",
    "    if not _has_structural(subject_path):\n",
    "        return False\n",
    "    return _files_exist(join(subject_path, task), needed)\n",
    "\n",
    "def _map_time_session(time_session):\n",
    "    _map = {\"000\": \"s1\", \"2MO\": \"s2\", \"6MO\": \"s3\", \"12MO\": \"s4\", \"24MO\": \"s5\"}\n",
    "    return _map[time_session]"
   ]
  },
  {
   "cell_type": "markdown",
   "metadata": {},
   "source": [
    "### Check if files exist\n",
    "\n",
    "Need fMRI data, onsets, and structurals"
   ]
  },
  {
   "cell_type": "code",
   "execution_count": 3,
   "metadata": {},
   "outputs": [
    {
     "name": "stdout",
     "output_type": "stream",
     "text": [
      "(3372, 5)\n"
     ]
    },
    {
     "data": {
      "text/plain": [
       "(2921, 5)"
      ]
     },
     "execution_count": 3,
     "metadata": {},
     "output_type": "execute_result"
    }
   ],
   "source": [
    "root = \"/Volumes/hd_4tb/raw\"\n",
    "rows = list()\n",
    "\n",
    "for project_path in glob(join(root, \"*\")):\n",
    "    project = os.path.basename(project_path)\n",
    "    for time_path in glob(join(project_path, \"*\")):\n",
    "        time_session = os.path.basename(time_path)\n",
    "        for subject_path in glob(join(time_path, \"*\")):\n",
    "            subject = os.path.basename(subject_path)\n",
    "            tasks = _get_tasks(subject_path)\n",
    "            for task in tasks:\n",
    "                valid = _validate_subject_task(subject_path, task)\n",
    "                row = {\n",
    "                    \"project\": project,\n",
    "                    \"time_session\": _map_time_session(time_session),\n",
    "                    \"subject\": subject,\n",
    "                    \"task\": task,\n",
    "                    \"data_exists\": valid\n",
    "                }\n",
    "                rows.append(row)\n",
    "\n",
    "files = pd.DataFrame(rows)\n",
    "print(files.shape)\n",
    "files = files[files.data_exists]\n",
    "files.shape"
   ]
  },
  {
   "cell_type": "markdown",
   "metadata": {},
   "source": [
    "### Add movement"
   ]
  },
  {
   "cell_type": "code",
   "execution_count": 4,
   "metadata": {},
   "outputs": [
    {
     "data": {
      "text/plain": [
       "(2421, 6)"
      ]
     },
     "execution_count": 4,
     "metadata": {},
     "output_type": "execute_result"
    }
   ],
   "source": [
    "movement_csv = \"/Volumes/hd_4tb/project/movement/all.csv\"\n",
    "movement = pd.read_csv(movement_csv)\n",
    "movement.dropna(inplace=True)\n",
    "df = pd.merge(files, movement, on=[\"project\", \"subject\", \"time_session\", \"task\"], how=\"left\")\n",
    "df.dropna(inplace=True)\n",
    "df = df[df.discarded_vols < 38]\n",
    "df.shape"
   ]
  },
  {
   "cell_type": "markdown",
   "metadata": {},
   "source": [
    "### Dicom info"
   ]
  },
  {
   "cell_type": "code",
   "execution_count": 5,
   "metadata": {},
   "outputs": [
    {
     "data": {
      "text/plain": [
       "(2270, 34)"
      ]
     },
     "execution_count": 5,
     "metadata": {},
     "output_type": "execute_result"
    }
   ],
   "source": [
    "info_csv = \"/Volumes/hd_4tb/project/info.csv\"\n",
    "info = pd.read_csv(info_csv)\n",
    "info.time_session = info.time_session.map({\"000\": \"s1\", \"2MO\": \"s2\", \"6MO\": \"s3\", \"12MO\": \"s4\", \"24MO\": \"s5\"})\n",
    "full = pd.merge(df, info, on=[\"project\", \"subject\", \"time_session\", \"task\"], how=\"left\")\n",
    "full = full[((full.age.notnull()) & (full.gender.notnull()))]\n",
    "full.shape"
   ]
  },
  {
   "cell_type": "markdown",
   "metadata": {},
   "source": [
    "### Data available"
   ]
  },
  {
   "cell_type": "code",
   "execution_count": 6,
   "metadata": {},
   "outputs": [
    {
     "data": {
      "text/plain": [
       "gonogo          704\n",
       "nonconscious    675\n",
       "conscious       660\n",
       "workingmemSB    131\n",
       "workingmemMB    100\n",
       "Name: task, dtype: int64"
      ]
     },
     "execution_count": 6,
     "metadata": {},
     "output_type": "execute_result"
    }
   ],
   "source": [
    "full.task.value_counts()"
   ]
  },
  {
   "cell_type": "code",
   "execution_count": 7,
   "metadata": {},
   "outputs": [],
   "source": [
    "full.to_csv(\"/Volumes/hd_4tb/project/clean.csv\", index=False)"
   ]
  },
  {
   "cell_type": "code",
   "execution_count": null,
   "metadata": {},
   "outputs": [],
   "source": []
  }
 ],
 "metadata": {
  "kernelspec": {
   "display_name": "Python 3",
   "language": "python",
   "name": "python3"
  },
  "language_info": {
   "codemirror_mode": {
    "name": "ipython",
    "version": 3
   },
   "file_extension": ".py",
   "mimetype": "text/x-python",
   "name": "python",
   "nbconvert_exporter": "python",
   "pygments_lexer": "ipython3",
   "version": "3.7.3"
  }
 },
 "nbformat": 4,
 "nbformat_minor": 2
}
