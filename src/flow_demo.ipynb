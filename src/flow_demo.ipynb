{
 "cells": [
  {
   "cell_type": "markdown",
   "metadata": {},
   "source": [
    "### Structure\n",
    "\n",
    "Create a cloud object.  \n",
    "Downloading will return the dcm path  \n",
    "The dcm path will go into the dicom_dir class  \n",
    "the dicom_dir class will be unzipped, run, and deleted.  "
   ]
  },
  {
   "cell_type": "code",
   "execution_count": 1,
   "metadata": {
    "collapsed": true
   },
   "outputs": [],
   "source": [
    "import os\n",
    "import flywheel\n",
    "from classes.Cloud import Cloud"
   ]
  },
  {
   "cell_type": "markdown",
   "metadata": {},
   "source": [
    "### Cloud class"
   ]
  },
  {
   "cell_type": "code",
   "execution_count": 2,
   "metadata": {},
   "outputs": [
    {
     "name": "stdout",
     "output_type": "stream",
     "text": [
      "Downloading /Users/pbezuhov/tmp/connectome-conn028-000_data_archive-wm.dicom.zip...\n"
     ]
    }
   ],
   "source": [
    "c = Cloud()\n",
    "dicom_path = c.download(\"connectome\", \"conn028\", \"000_data_archive\", \"wm\")"
   ]
  },
  {
   "cell_type": "markdown",
   "metadata": {},
   "source": [
    "### Dicom class"
   ]
  },
  {
   "cell_type": "code",
   "execution_count": 3,
   "metadata": {
    "collapsed": true
   },
   "outputs": [],
   "source": [
    "from classes.Dicom import Dicom, DicomDir"
   ]
  },
  {
   "cell_type": "code",
   "execution_count": 4,
   "metadata": {},
   "outputs": [
    {
     "name": "stdout",
     "output_type": "stream",
     "text": [
      "unzipping /Users/pbezuhov/tmp/connectome-conn028-000_data_archive-wm.dicom.zip...\n"
     ]
    },
    {
     "name": "stderr",
     "output_type": "stream",
     "text": [
      "  0%|          | 8/4340 [00:00<00:59, 72.92it/s]"
     ]
    },
    {
     "name": "stdout",
     "output_type": "stream",
     "text": [
      "removing old path /Users/pbezuhov/tmp/connectome-conn028-000_data_archive-wm.dicom.zip...\n",
      "loading dicoms from /Users/pbezuhov/tmp/connectome-conn028-000_data_archive-wm...\n",
      "Sorting dicoms by trigger time...\n"
     ]
    },
    {
     "name": "stderr",
     "output_type": "stream",
     "text": [
      " 13%|█▎        | 561/4340 [00:09<01:06, 56.44it/s]/anaconda3/lib/python3.6/site-packages/tqdm/_monitor.py:89: TqdmSynchronisationWarning: Set changed size during iteration (see https://github.com/tqdm/tqdm/issues/481)\n",
      "  TqdmSynchronisationWarning)\n",
      "100%|██████████| 4340/4340 [01:22<00:00, 52.85it/s]\n",
      "100%|██████████| 4340/4340 [00:00<00:00, 453879.20it/s]\n"
     ]
    }
   ],
   "source": [
    "dicom_dir = DicomDir(dicom_path)"
   ]
  },
  {
   "cell_type": "code",
   "execution_count": 4,
   "metadata": {
    "scrolled": true
   },
   "outputs": [
    {
     "data": {
      "application/vnd.jupyter.widget-view+json": {
       "model_id": "86954aecb2b146c7a3231f9b8d94be4e",
       "version_major": 2,
       "version_minor": 0
      },
      "text/plain": [
       "HBox(children=(IntProgress(value=0, max=4340), HTML(value='')))"
      ]
     },
     "metadata": {},
     "output_type": "display_data"
    },
    {
     "name": "stdout",
     "output_type": "stream",
     "text": [
      "\n"
     ]
    }
   ],
   "source": [
    "from glob import glob\n",
    "from tqdm import tqdm_notebook as tqdm\n",
    "import pydicom\n",
    "\n",
    "for d in tqdm(glob(\"/Users/pbezuhov/tmp/connectome-conn028-000_data_archive-wm/*\")):\n",
    "    d = pydicom.read_file(d)\n",
    "    break"
   ]
  },
  {
   "cell_type": "code",
   "execution_count": 6,
   "metadata": {
    "scrolled": false
   },
   "outputs": [
    {
     "data": {
      "text/plain": [
       "(92, 92)"
      ]
     },
     "execution_count": 6,
     "metadata": {},
     "output_type": "execute_result"
    }
   ],
   "source": [
    "d.pixel_array.shape"
   ]
  },
  {
   "cell_type": "code",
   "execution_count": 8,
   "metadata": {},
   "outputs": [
    {
     "data": {
      "text/plain": [
       "array([  72,   72,   79,   78,   76,   70,   80,   74,   71,   77,   72,\n",
       "         72,   65,  255,  120,  284,  665,  175,  682, 1320, 1524, 1612,\n",
       "       1499, 1271, 1259, 1065, 1075, 1377,  954,  803,  862, 1215, 1195,\n",
       "        981,  742,  873,  813,  743,  777, 1033, 1671, 1253, 1389, 1977,\n",
       "       2510, 2175, 1958, 2055, 2279, 2099, 2236, 2384, 2191, 2264, 2526,\n",
       "       2005, 1708, 1433, 1226, 1019,  908,  941, 1212, 1322, 1025, 1230,\n",
       "       1230, 1224, 1190, 1126,  945,  381,  168,  505,  705,  146,   94,\n",
       "        155,   67,   73,   89,   81,   65,   81,   86,   72,   77,   82,\n",
       "         87,   80,   27,   29], dtype=int16)"
      ]
     },
     "execution_count": 8,
     "metadata": {},
     "output_type": "execute_result"
    }
   ],
   "source": [
    "d.pixel_array[45]"
   ]
  },
  {
   "cell_type": "code",
   "execution_count": 5,
   "metadata": {},
   "outputs": [
    {
     "name": "stderr",
     "output_type": "stream",
     "text": [
      "/anaconda3/lib/python3.6/site-packages/h5py/__init__.py:34: FutureWarning: Conversion of the second argument of issubdtype from `float` to `np.floating` is deprecated. In future, it will be treated as `np.float64 == np.dtype(float).type`.\n",
      "  from ._conv import register_converters as _register_converters\n"
     ]
    },
    {
     "data": {
      "text/plain": [
       "0.0"
      ]
     },
     "execution_count": 5,
     "metadata": {},
     "output_type": "execute_result"
    }
   ],
   "source": [
    "import nibabel as nib\n",
    "nii_data = nib.load(\"/Users/pbezuhov/tmp/connectome-conn028-000_data_archive-gonogo.nii.gz\").get_data()\n",
    "(nii_data[:,:,:,-1] - last_volume).sum()"
   ]
  },
  {
   "cell_type": "markdown",
   "metadata": {},
   "source": [
    "### ProtocolName"
   ]
  },
  {
   "cell_type": "code",
   "execution_count": 18,
   "metadata": {
    "scrolled": false
   },
   "outputs": [
    {
     "data": {
      "text/plain": [
       "'Williams Connectome Aug'"
      ]
     },
     "execution_count": 18,
     "metadata": {},
     "output_type": "execute_result"
    }
   ],
   "source": [
    "d = dicom_dir.dicoms[0][\"sheets\"][0][\"dicom\"].dicom\n",
    "d.ProtocolName"
   ]
  },
  {
   "cell_type": "code",
   "execution_count": null,
   "metadata": {
    "collapsed": true
   },
   "outputs": [],
   "source": []
  }
 ],
 "metadata": {
  "kernelspec": {
   "display_name": "Python 3",
   "language": "python",
   "name": "python3"
  },
  "language_info": {
   "codemirror_mode": {
    "name": "ipython",
    "version": 3
   },
   "file_extension": ".py",
   "mimetype": "text/x-python",
   "name": "python",
   "nbconvert_exporter": "python",
   "pygments_lexer": "ipython3",
   "version": "3.6.9"
  }
 },
 "nbformat": 4,
 "nbformat_minor": 2
}
