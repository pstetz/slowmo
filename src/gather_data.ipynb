{
 "cells": [
  {
   "cell_type": "markdown",
   "metadata": {},
   "source": [
    "# Gather data\n",
    "\n",
    "Moves all the appropriate onsets to a speficied directory"
   ]
  },
  {
   "cell_type": "markdown",
   "metadata": {},
   "source": [
    "<a id=\"toc\"></a>\n",
    "1.) [Imports](#imports)  \n",
    "2.) [Setup](#setup)  \n",
    "3.) [Main](#main)  \n",
    "4.) [Filter by log/image availability](#filter)  \n",
    "5.) [Save as CSV](#save)  "
   ]
  },
  {
   "cell_type": "markdown",
   "metadata": {},
   "source": [
    "<a id=\"imports\"></a>\n",
    "### [^](#toc) Imports"
   ]
  },
  {
   "cell_type": "code",
   "execution_count": 1,
   "metadata": {
    "collapsed": true
   },
   "outputs": [],
   "source": [
    "import os\n",
    "import glob\n",
    "import shutil\n",
    "import pandas as pd\n",
    "from tqdm import tqdm"
   ]
  },
  {
   "cell_type": "markdown",
   "metadata": {},
   "source": [
    "<a id=\"main\"></a>\n",
    "### [^](#toc) Main"
   ]
  },
  {
   "cell_type": "code",
   "execution_count": 2,
   "metadata": {},
   "outputs": [
    {
     "name": "stderr",
     "output_type": "stream",
     "text": [
      "  7%|▋         | 40/542 [00:09<02:01,  4.14it/s]/anaconda3/lib/python3.6/site-packages/tqdm/_monitor.py:89: TqdmSynchronisationWarning: Set changed size during iteration (see https://github.com/tqdm/tqdm/issues/481)\n",
      "  TqdmSynchronisationWarning)\n",
      "100%|██████████| 542/542 [02:36<00:00,  3.46it/s]\n",
      "100%|██████████| 167/167 [01:02<00:00,  2.69it/s]\n",
      "100%|██████████| 153/153 [00:39<00:00,  3.91it/s]\n",
      "100%|██████████| 242/242 [08:17<00:00,  2.05s/it]\n",
      "100%|██████████| 124/124 [03:29<00:00,  1.69s/it]\n"
     ]
    }
   ],
   "source": [
    "projects = [\n",
    "    (\"/Volumes/group/PANLab_Datasets/RAD/data/\", \"RAD\"),\n",
    "    (\"/Volumes/group/PANLab_Datasets/CONNECTOME/conn_mdd/data/\", \"CONN_MDD\"),\n",
    "    (\"/Volumes/group/PANLab_Datasets/CONNECTOME/conn_hc/data/\", \"CONN_HC\"),\n",
    "    (\"/Volumes/group/PANLab_Datasets/ENGAGE/data/\", \"ENGAGE\"),\n",
    "    (\"/Volumes/group/PANLab_Datasets/iSPOTD_Controls_data\", \"ISPOTD\"),\n",
    "]\n",
    "\n",
    "tasks = [\n",
    "    (\"100_fMRI/101_fMRI_preproc_GO_NO_GO/02_globalremoved_func_data.nii.tar.gz\", \"gonogo\"),\n",
    "    (\"100_fMRI/103_fMRI_preproc_FACES-CONSCIOUS/02_globalremoved_func_data.nii.tar.gz\", \"conscious\"),\n",
    "    (\"100_fMRI/105_fMRI_preproc_FACES-NONCONSCIOUS/02_globalremoved_func_data.nii.tar.gz\", \"nonconscious\"),\n",
    "]\n",
    "\n",
    "rows = list()\n",
    "for project in projects:\n",
    "    project_path = project[0]\n",
    "    project_name = project[1]\n",
    "    \n",
    "    for subject_path in tqdm(glob.glob(os.path.join(project_path, \"*\"))):\n",
    "        subject = os.path.basename(subject_path)\n",
    "        \n",
    "        for time_session_path in glob.glob(os.path.join(subject_path, \"*\")):\n",
    "            time_session = os.path.basename(time_session_path)\n",
    "            \n",
    "            for task in tasks:\n",
    "                task_path = task[0]\n",
    "                task_name = task[1]\n",
    "                filepath = os.path.join(time_session_path, task_path)\n",
    "                if os.path.isfile(filepath):\n",
    "                    task_path = os.path.dirname(filepath)\n",
    "                    onsets = list(glob.glob(os.path.join(task_path, \"*_Onsets.csv\")))\n",
    "                    row = {\n",
    "                        \"project\": project_name,\n",
    "                        \"subject\": subject,\n",
    "                        \"time_session\": time_session,\n",
    "                        \"task\": task_name,\n",
    "                        \"filepath\": filepath,\n",
    "                        \"onsets\": onsets,\n",
    "                    }\n",
    "                    rows.append(row)"
   ]
  },
  {
   "cell_type": "markdown",
   "metadata": {},
   "source": [
    "### Create Dataframe"
   ]
  },
  {
   "cell_type": "code",
   "execution_count": 3,
   "metadata": {},
   "outputs": [
    {
     "data": {
      "text/html": [
       "<div>\n",
       "<style>\n",
       "    .dataframe thead tr:only-child th {\n",
       "        text-align: right;\n",
       "    }\n",
       "\n",
       "    .dataframe thead th {\n",
       "        text-align: left;\n",
       "    }\n",
       "\n",
       "    .dataframe tbody tr th {\n",
       "        vertical-align: top;\n",
       "    }\n",
       "</style>\n",
       "<table border=\"1\" class=\"dataframe\">\n",
       "  <thead>\n",
       "    <tr style=\"text-align: right;\">\n",
       "      <th></th>\n",
       "      <th>filepath</th>\n",
       "      <th>onsets</th>\n",
       "      <th>project</th>\n",
       "      <th>subject</th>\n",
       "      <th>task</th>\n",
       "      <th>time_session</th>\n",
       "    </tr>\n",
       "  </thead>\n",
       "  <tbody>\n",
       "    <tr>\n",
       "      <th>0</th>\n",
       "      <td>/Volumes/group/PANLab_Datasets/RAD/data/RAD_36...</td>\n",
       "      <td>[/Volumes/group/PANLab_Datasets/RAD/data/RAD_3...</td>\n",
       "      <td>RAD</td>\n",
       "      <td>RAD_36</td>\n",
       "      <td>gonogo</td>\n",
       "      <td>000_data_archive</td>\n",
       "    </tr>\n",
       "    <tr>\n",
       "      <th>1</th>\n",
       "      <td>/Volumes/group/PANLab_Datasets/RAD/data/RAD_36...</td>\n",
       "      <td>[/Volumes/group/PANLab_Datasets/RAD/data/RAD_3...</td>\n",
       "      <td>RAD</td>\n",
       "      <td>RAD_36</td>\n",
       "      <td>conscious</td>\n",
       "      <td>000_data_archive</td>\n",
       "    </tr>\n",
       "    <tr>\n",
       "      <th>2</th>\n",
       "      <td>/Volumes/group/PANLab_Datasets/RAD/data/RAD_36...</td>\n",
       "      <td>[/Volumes/group/PANLab_Datasets/RAD/data/RAD_3...</td>\n",
       "      <td>RAD</td>\n",
       "      <td>RAD_36</td>\n",
       "      <td>nonconscious</td>\n",
       "      <td>000_data_archive</td>\n",
       "    </tr>\n",
       "    <tr>\n",
       "      <th>3</th>\n",
       "      <td>/Volumes/group/PANLab_Datasets/RAD/data/RAD_41...</td>\n",
       "      <td>[/Volumes/group/PANLab_Datasets/RAD/data/RAD_4...</td>\n",
       "      <td>RAD</td>\n",
       "      <td>RAD_41</td>\n",
       "      <td>gonogo</td>\n",
       "      <td>000_data_archive</td>\n",
       "    </tr>\n",
       "    <tr>\n",
       "      <th>4</th>\n",
       "      <td>/Volumes/group/PANLab_Datasets/RAD/data/RAD_41...</td>\n",
       "      <td>[/Volumes/group/PANLab_Datasets/RAD/data/RAD_4...</td>\n",
       "      <td>RAD</td>\n",
       "      <td>RAD_41</td>\n",
       "      <td>conscious</td>\n",
       "      <td>000_data_archive</td>\n",
       "    </tr>\n",
       "  </tbody>\n",
       "</table>\n",
       "</div>"
      ],
      "text/plain": [
       "                                            filepath  \\\n",
       "0  /Volumes/group/PANLab_Datasets/RAD/data/RAD_36...   \n",
       "1  /Volumes/group/PANLab_Datasets/RAD/data/RAD_36...   \n",
       "2  /Volumes/group/PANLab_Datasets/RAD/data/RAD_36...   \n",
       "3  /Volumes/group/PANLab_Datasets/RAD/data/RAD_41...   \n",
       "4  /Volumes/group/PANLab_Datasets/RAD/data/RAD_41...   \n",
       "\n",
       "                                              onsets project subject  \\\n",
       "0  [/Volumes/group/PANLab_Datasets/RAD/data/RAD_3...     RAD  RAD_36   \n",
       "1  [/Volumes/group/PANLab_Datasets/RAD/data/RAD_3...     RAD  RAD_36   \n",
       "2  [/Volumes/group/PANLab_Datasets/RAD/data/RAD_3...     RAD  RAD_36   \n",
       "3  [/Volumes/group/PANLab_Datasets/RAD/data/RAD_4...     RAD  RAD_41   \n",
       "4  [/Volumes/group/PANLab_Datasets/RAD/data/RAD_4...     RAD  RAD_41   \n",
       "\n",
       "           task      time_session  \n",
       "0        gonogo  000_data_archive  \n",
       "1     conscious  000_data_archive  \n",
       "2  nonconscious  000_data_archive  \n",
       "3        gonogo  000_data_archive  \n",
       "4     conscious  000_data_archive  "
      ]
     },
     "execution_count": 3,
     "metadata": {},
     "output_type": "execute_result"
    }
   ],
   "source": [
    "df = pd.DataFrame(rows)\n",
    "df.head()"
   ]
  },
  {
   "cell_type": "markdown",
   "metadata": {},
   "source": [
    "<a id=\"filter\"></a>\n",
    "### [^](#toc) Filter by log/image availability"
   ]
  },
  {
   "cell_type": "code",
   "execution_count": 13,
   "metadata": {},
   "outputs": [
    {
     "name": "stdout",
     "output_type": "stream",
     "text": [
      "Shape (pre filter):  (2764, 6)\n",
      "Shape (post filter): (2355, 6)\n"
     ]
    }
   ],
   "source": [
    "print(\"Shape (pre filter): \", df.shape)\n",
    "filtered_df = df[df.onsets.map(lambda x: len(x)) > 0]\n",
    "print(\"Shape (post filter):\", filtered_df.shape)"
   ]
  },
  {
   "cell_type": "markdown",
   "metadata": {},
   "source": [
    "<a id=\"save\"></a>\n",
    "### [^](#toc) Save as CSV"
   ]
  },
  {
   "cell_type": "code",
   "execution_count": 14,
   "metadata": {
    "collapsed": true
   },
   "outputs": [],
   "source": [
    "filtered_df.to_csv(\"data/full.csv\")"
   ]
  },
  {
   "cell_type": "code",
   "execution_count": null,
   "metadata": {
    "collapsed": true
   },
   "outputs": [],
   "source": []
  }
 ],
 "metadata": {
  "kernelspec": {
   "display_name": "Python 3",
   "language": "python",
   "name": "python3"
  },
  "language_info": {
   "codemirror_mode": {
    "name": "ipython",
    "version": 3
   },
   "file_extension": ".py",
   "mimetype": "text/x-python",
   "name": "python",
   "nbconvert_exporter": "python",
   "pygments_lexer": "ipython3",
   "version": "3.6.8"
  }
 },
 "nbformat": 4,
 "nbformat_minor": 2
}
