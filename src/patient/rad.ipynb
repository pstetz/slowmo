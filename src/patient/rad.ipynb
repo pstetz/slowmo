{
 "cells": [
  {
   "cell_type": "markdown",
   "metadata": {},
   "source": [
    "<a id=\"toc\"></a>\n",
    "# Table of contents\n"
   ]
  },
  {
   "cell_type": "markdown",
   "metadata": {},
   "source": [
    "### Notes:\n",
    "\n",
    "These participants do not have a value for `ps_age`\n",
    "\n",
    "- '289 (B024)', '318 (B033)', '319 (B041)', '327 (B035)', '368 (B036)', '375 (B037)', '412-2', '89-3', 'Not for analysis 417', 'Not for analysis 418', 'RADAT Pilot - ID 400', 'X002'\n",
    "\n",
    "All the options for gender are:\n",
    "\n",
    "- 'ps_gender', 'ps_other_gender', 'demo_gender', 'gender_desc', 'gender_birthsex'"
   ]
  },
  {
   "cell_type": "markdown",
   "metadata": {},
   "source": [
    "### Imports"
   ]
  },
  {
   "cell_type": "code",
   "execution_count": 1,
   "metadata": {},
   "outputs": [],
   "source": [
    "import os\n",
    "import pandas as pd\n",
    "from os.path import join\n",
    "\n",
    "import matplotlib.pyplot as plt\n",
    "import seaborn as sns\n",
    "%matplotlib inline\n",
    "sns.set()"
   ]
  },
  {
   "cell_type": "markdown",
   "metadata": {},
   "source": [
    "### Load data"
   ]
  },
  {
   "cell_type": "code",
   "execution_count": 2,
   "metadata": {},
   "outputs": [
    {
     "name": "stdout",
     "output_type": "stream",
     "text": [
      "rad shape: (755, 1255)\n"
     ]
    }
   ],
   "source": [
    "data_root = \"../../data/project/rad\"\n",
    "subject_list = pd.read_csv(join(data_root, \"full_subjects.csv\"))\n",
    "orig_df = pd.read_csv(join(data_root, \"rad_redcap.csv\"), low_memory=False)\n",
    "\n",
    "### Drop rows where age is not provided\n",
    "df = orig_df[orig_df.ps_age.notnull()]\n",
    "\n",
    "print(\"rad shape:\", df.shape)\n",
    "# df.head(2)"
   ]
  },
  {
   "cell_type": "markdown",
   "metadata": {},
   "source": [
    "### Save relavant info"
   ]
  },
  {
   "cell_type": "code",
   "execution_count": 3,
   "metadata": {},
   "outputs": [],
   "source": [
    "rad = df.copy()\n",
    "gender_mapping = {2: \"female\", 1: \"male\", 99: \"other\"}\n",
    "rad[\"gender\"] = rad[\"ps_gender\"].map(gender_mapping)\n",
    "\n",
    "important_cols = [\"participant_id\", \"ps_age\", \"gender\"]\n",
    "rad = rad[important_cols]\n",
    "rad.rename(columns={\"participant_id\": \"subject\", \"ps_age\": \"age\"}, inplace=True)\n",
    "\n",
    "save_path = join(data_root, \"rad.csv\")\n",
    "if not os.path.isfile(save_path):\n",
    "    rad.to_csv(save_path, index=False)"
   ]
  },
  {
   "cell_type": "markdown",
   "metadata": {},
   "source": [
    "### Inspect"
   ]
  },
  {
   "cell_type": "code",
   "execution_count": 38,
   "metadata": {},
   "outputs": [
    {
     "data": {
      "text/plain": [
       "['redcap_event_name',\n",
       " 'ps_name',\n",
       " 'ps_nickname',\n",
       " 'demo_first_name',\n",
       " 'demo_firstname_diff',\n",
       " 'demo_last_name',\n",
       " 'demo_lastname_diff',\n",
       " 'mednamedosage']"
      ]
     },
     "execution_count": 38,
     "metadata": {},
     "output_type": "execute_result"
    }
   ],
   "source": [
    "cols = [c for c in df.columns if \"name\" in c]\n",
    "# tmp = df[[\"participant_id\"] + cols]\n",
    "# tmp[tmp.ps_age.notnull()].participant_id.nunique()\n",
    "cols"
   ]
  },
  {
   "cell_type": "code",
   "execution_count": null,
   "metadata": {},
   "outputs": [],
   "source": []
  },
  {
   "cell_type": "code",
   "execution_count": null,
   "metadata": {},
   "outputs": [],
   "source": []
  },
  {
   "cell_type": "code",
   "execution_count": null,
   "metadata": {},
   "outputs": [],
   "source": []
  },
  {
   "cell_type": "code",
   "execution_count": null,
   "metadata": {},
   "outputs": [],
   "source": [
    "drop_cols = [c for c in df.columns if \"timestamp\" in c or \"date\" in c]\n",
    "df.drop(drop_cols, axis=1, inplace=True)"
   ]
  },
  {
   "cell_type": "code",
   "execution_count": null,
   "metadata": {},
   "outputs": [],
   "source": []
  },
  {
   "cell_type": "code",
   "execution_count": null,
   "metadata": {},
   "outputs": [],
   "source": []
  }
 ],
 "metadata": {
  "kernelspec": {
   "display_name": "Python 3",
   "language": "python",
   "name": "python3"
  },
  "language_info": {
   "codemirror_mode": {
    "name": "ipython",
    "version": 3
   },
   "file_extension": ".py",
   "mimetype": "text/x-python",
   "name": "python",
   "nbconvert_exporter": "python",
   "pygments_lexer": "ipython3",
   "version": "3.6.9"
  }
 },
 "nbformat": 4,
 "nbformat_minor": 2
}
