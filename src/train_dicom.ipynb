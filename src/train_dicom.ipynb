{
 "cells": [
  {
   "cell_type": "markdown",
   "metadata": {},
   "source": [
    "### Imports"
   ]
  },
  {
   "cell_type": "code",
   "execution_count": 1,
   "metadata": {},
   "outputs": [
    {
     "name": "stderr",
     "output_type": "stream",
     "text": [
      "/anaconda3/lib/python3.6/site-packages/h5py/__init__.py:34: FutureWarning: Conversion of the second argument of issubdtype from `float` to `np.floating` is deprecated. In future, it will be treated as `np.float64 == np.dtype(float).type`.\n",
      "  from ._conv import register_converters as _register_converters\n"
     ]
    }
   ],
   "source": [
    "import os\n",
    "import flywheel\n",
    "\n",
    "import numpy as np\n",
    "import pandas as pd\n",
    "import nibabel as nib\n",
    "import tensorflow as tf\n",
    "\n",
    "from glob import glob\n",
    "from os.path import join"
   ]
  },
  {
   "cell_type": "markdown",
   "metadata": {},
   "source": [
    "### Helpers"
   ]
  },
  {
   "cell_type": "code",
   "execution_count": 2,
   "metadata": {
    "collapsed": true
   },
   "outputs": [],
   "source": [
    "def voxel_radius(radius):\n",
    "    valid = list()\n",
    "    for i in range(radius+1):\n",
    "        for j in range(radius+1):\n",
    "            for k in range(radius+1):\n",
    "                if i == 0 and j == 0 and k == 0:\n",
    "                    continue\n",
    "                if i**2 + j**2 + k**2 > radius**2:\n",
    "                    continue\n",
    "\n",
    "                for parity in ([1, 1, 1], [-1, 1, 1], [1, -1, 1], [1, 1, -1],\n",
    "                               [-1, -1, 1], [-1, 1, -1], [1, -1, -1], [-1, -1, -1]):\n",
    "                    if ((i == 0 and parity[0] == -1) or\n",
    "                        (j == 0 and parity[1] == -1) or\n",
    "                        (k == 0 and parity[2] == -1)):\n",
    "                        continue\n",
    "                    valid.append({\"x\":  i * parity[0], \"y\":  j * parity[1], \"z\":  k * parity[2]})\n",
    "    return valid"
   ]
  },
  {
   "cell_type": "markdown",
   "metadata": {},
   "source": [
    "### Features"
   ]
  },
  {
   "cell_type": "code",
   "execution_count": 11,
   "metadata": {},
   "outputs": [
    {
     "data": {
      "text/plain": [
       "('Number of features:', 764)"
      ]
     },
     "execution_count": 11,
     "metadata": {},
     "output_type": "execute_result"
    }
   ],
   "source": [
    "\"Number of features:\", (\n",
    "    (len(voxel_radius(4)) * 2) + # 4 radius voxels (previous and next volume)\n",
    "    (len(voxel_radius(4)) - len(voxel_radius(2))) + # 4 radius voxels not within 2 voxel radius for current volume\n",
    "    2 + # time since (until) previous (next)\n",
    "    1 + # time ratio between next voxels and previous\n",
    "    2 + # time since last gonogo stimuli\n",
    "    2 + # time since go/nogo bloack started\n",
    "    6 + # time since faces stimuli\n",
    "    6 + # time since faces block started\n",
    "    1 + # time since keypress (any)\n",
    "    2 + # gender, age\n",
    "    3 + # task identifier (is_gonogo, is_(non)conscious)\n",
    "    3 + # study identifier (conn, engage, rad)\n",
    "    0\n",
    ")"
   ]
  },
  {
   "cell_type": "code",
   "execution_count": null,
   "metadata": {
    "collapsed": true
   },
   "outputs": [],
   "source": []
  }
 ],
 "metadata": {
  "kernelspec": {
   "display_name": "Python 3",
   "language": "python",
   "name": "python3"
  },
  "language_info": {
   "codemirror_mode": {
    "name": "ipython",
    "version": 3
   },
   "file_extension": ".py",
   "mimetype": "text/x-python",
   "name": "python",
   "nbconvert_exporter": "python",
   "pygments_lexer": "ipython3",
   "version": "3.6.8"
  }
 },
 "nbformat": 4,
 "nbformat_minor": 2
}
