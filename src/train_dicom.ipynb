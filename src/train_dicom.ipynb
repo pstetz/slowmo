{
 "cells": [
  {
   "cell_type": "markdown",
   "metadata": {},
   "source": [
    "### Imports"
   ]
  },
  {
   "cell_type": "code",
   "execution_count": 2,
   "metadata": {},
   "outputs": [],
   "source": [
    "import os\n",
    "import flywheel\n",
    "import numpy as np\n",
    "import pandas as pd\n",
    "import nibabel as nib\n",
    "from glob import glob\n",
    "from os.path import join\n",
    "\n",
    "import tensorflow as tf\n",
    "from tensorflow import keras\n",
    "from tensorflow.keras import layers\n",
    "\n",
    "### Custom helpers\n",
    "import sys\n",
    "sys.path.append(\"classes\")\n",
    "from helpers import *\n",
    "from Model import Model\n",
    "from Cloud import Cloud\n",
    "from Button import Button\n",
    "from Dicom import Dicom, DicomDir\n",
    "\n",
    "### Load objects\n",
    "cloud = Cloud()\n",
    "# model = Model()"
   ]
  },
  {
   "cell_type": "markdown",
   "metadata": {},
   "source": [
    "### Features\n",
    "\n",
    "TODO:\n",
    "- Working memory\n",
    "- SCL-20, other behaviorial data"
   ]
  },
  {
   "cell_type": "code",
   "execution_count": 4,
   "metadata": {},
   "outputs": [
    {
     "data": {
      "text/plain": [
       "('Number of features:', 1053)"
      ]
     },
     "execution_count": 4,
     "metadata": {},
     "output_type": "execute_result"
    }
   ],
   "source": [
    "num_features = (\n",
    "    2* (len(voxel_radius(5))) + # 4 radius voxels (previous and next volume)\n",
    "#     (2* ((4 * 2) + 1)) + # trigger time for 4-radius (previous and next volume)\n",
    "#     ((4 * 2) - 5) + # trigger time for current volume\n",
    "    2 + # time since last gonogo stimuli\n",
    "    2 + # time since go/nogo bloack started\n",
    "    6 + # time since faces stimuli\n",
    "    6 + # time since faces block started\n",
    "    1 + # time since keypress (any)\n",
    "    2 + # gender, age\n",
    "    3 + # task identifier (is_gonogo, is_(non)conscious)\n",
    "    3 + # study identifier (conn, engage, rad)\n",
    "    0\n",
    ")\n",
    "\"Number of features:\", num_features"
   ]
  },
  {
   "cell_type": "markdown",
   "metadata": {},
   "source": [
    "### Load settings"
   ]
  },
  {
   "cell_type": "code",
   "execution_count": 5,
   "metadata": {
    "collapsed": true
   },
   "outputs": [],
   "source": [
    "tasks  = \"config/tasks.json\"\n",
    "EPOCHS = 100"
   ]
  },
  {
   "cell_type": "markdown",
   "metadata": {},
   "source": [
    "### Helpers\n",
    "\n",
    "Move these to own file when done"
   ]
  },
  {
   "cell_type": "code",
   "execution_count": 17,
   "metadata": {},
   "outputs": [],
   "source": [
    "def _train_task(project, task, onsets, data, patient, is_ascending):\n",
    "    for num_volume in len(data.shape[-1]):\n",
    "        df = _gen_data(project, task, onsets, volume, patient, is_ascending, num_volume)\n",
    "        model.train(df)\n",
    "\n",
    "def _volume_data(data, x, y, z, t, direction, radius):\n",
    "    row = dict()\n",
    "    for coord in voxel_radius(radius):\n",
    "        i, j, k  = coord[\"x\"], coord[\"y\"], coord[\"z\"]\n",
    "        loc      = \"i%d_j%d_k%d_t%d\" % (i, j, k, direction)\n",
    "        row[loc] = data[x+i, y+j ,z+k, t+direction]\n",
    "    return row\n",
    "\n",
    "def _gen_avail_volumes(shape, radius):\n",
    "    x_min, x_max = radius, shape[0] - radius\n",
    "    y_min, y_max = radius, shape[1] - radius\n",
    "    z_min, z_max = radius, shape[2] - radius\n",
    "    return [(x, y, z) for x in range(x_min, x_max)\n",
    "                      for y in range(y_min, y_max)\n",
    "                      for z in range(z_min, z_max)\n",
    "           ]\n",
    "        \n",
    "def _gen_data(project, task, onsets, dicoms, patient, is_ascending, num_volume, radius=5):\n",
    "    avail_volumes = _gen_avail_volumes(dicoms.shape)\n",
    "    for x, y, z in avail_volumes:\n",
    "        _prev = _volume_data(dicoms, x, y, z, num_volume, -1, radius)\n",
    "        _next = _volume_data(dicoms, x, y, z, num_volume, 1,  radius)\n",
    "        row = {**_prev, **_next}\n",
    "        row[\"signal\"] = data[x, y, z, num_volume]   \n",
    "    df = pd.DataFrame(rows)\n",
    "    \n",
    "    ### patient data\n",
    "#     df[\"age\"] = patient.age\n",
    "#     df[\"is_female\"] = (patient.gender == \"female\")\n",
    "    \n",
    "    ### Project data\n",
    "    df[\"is_rad\"] = (project == \"rad\")\n",
    "    df[\"is_engage\"] = (project == \"engage\")\n",
    "    df[\"is_connectome\"] = (project == \"connectome\")\n",
    "    \n",
    "    ### task data\n",
    "    df[\"is_gng\"] = (task == \"gonogo\")\n",
    "    df[\"is_fc\"]  = (task == \"conscious\")\n",
    "    df[\"is_fnc\"] = (task == \"nonconscious\")\n",
    "    \n",
    "    ### fMRI data\n",
    "    df[\"ascending\"] = int(is_ascending)\n",
    "    return df"
   ]
  },
  {
   "cell_type": "code",
   "execution_count": 13,
   "metadata": {},
   "outputs": [
    {
     "name": "stdout",
     "output_type": "stream",
     "text": [
      "Downloading /Users/pbezuhov/tmp/connectome-conn036-000_data_archive-conscious.dicom.zip...\n"
     ]
    }
   ],
   "source": [
    "project = \"connectome\"\n",
    "subject = \"conn036\"\n",
    "time_session = \"000_data_archive\"\n",
    "task = \"conscious\"\n",
    "path = cloud.download(project, subject, time_session, task)"
   ]
  },
  {
   "cell_type": "code",
   "execution_count": 14,
   "metadata": {},
   "outputs": [
    {
     "name": "stdout",
     "output_type": "stream",
     "text": [
      "unzipping /Users/pbezuhov/tmp/connectome-conn036-000_data_archive-conscious.dicom.zip...\n"
     ]
    },
    {
     "name": "stderr",
     "output_type": "stream",
     "text": [
      "  0%|          | 7/6930 [00:00<01:49, 63.38it/s]"
     ]
    },
    {
     "name": "stdout",
     "output_type": "stream",
     "text": [
      "removing old path /Users/pbezuhov/tmp/connectome-conn036-000_data_archive-conscious.dicom.zip...\n",
      "loading dicoms from /Users/pbezuhov/tmp/connectome-conn036-000_data_archive-conscious...\n",
      "Sorting dicoms by trigger time...\n"
     ]
    },
    {
     "name": "stderr",
     "output_type": "stream",
     "text": [
      "100%|██████████| 6930/6930 [02:19<00:00, 49.55it/s]\n",
      "100%|██████████| 6930/6930 [00:00<00:00, 275710.72it/s]\n"
     ]
    }
   ],
   "source": [
    "d = DicomDir(path)"
   ]
  },
  {
   "cell_type": "code",
   "execution_count": null,
   "metadata": {},
   "outputs": [],
   "source": [
    "onsets = None\n",
    "patient = None\n",
    "is_ascending = dicoms.is_ascending\n",
    "num_volume = 3\n",
    "_gen_data(project, task, onsets, dicoms, patient, is_ascending, num_volume)"
   ]
  },
  {
   "cell_type": "markdown",
   "metadata": {},
   "source": [
    "### Build model"
   ]
  },
  {
   "cell_type": "code",
   "execution_count": 19,
   "metadata": {},
   "outputs": [],
   "source": [
    "def build_model(num_features):\n",
    "    model = keras.Sequential([\n",
    "        layers.Dense(64, activation=tf.nn.relu, input_shape=(num_features, 1)),\n",
    "        layers.Conv1D(100, 5, activation=tf.nn.relu), ### FIXME: check the filters and kernel_size\n",
    "        layers.Dense(64, activation=tf.nn.relu),\n",
    "        layers.AveragePooling1D(pool_size=2),\n",
    "        layers.Dense(32, activation=tf.nn.relu),\n",
    "        layers.Dense(1)\n",
    "    ])\n",
    "\n",
    "    optimizer = tf.keras.optimizers.Adam()\n",
    "\n",
    "    model.compile(\n",
    "        loss='mean_squared_error',\n",
    "        optimizer=optimizer,\n",
    "        metrics=['mean_absolute_error', 'mean_squared_error']\n",
    "    )\n",
    "    return model\n",
    "\n",
    "model = build_model(num_features)"
   ]
  },
  {
   "cell_type": "code",
   "execution_count": null,
   "metadata": {
    "collapsed": true
   },
   "outputs": [],
   "source": [
    "### Iterate over tasks\n",
    "for task in tasks:\n",
    "    task_info = tasks[task]\n",
    "    num_vols  = task_info[\"vol\"]\n",
    "    if \"project\" in task_info:\n",
    "        projects = task_info[\"project\"]\n",
    "    else:\n",
    "        projects = [\"rad\", \"connectome\", \"engage\"]\n",
    "        \n",
    "    ### Iterate over projects\n",
    "    for project in projects:\n",
    "        time_sessions = project_config[\"time_sessions\"]\n",
    "        subjects = load_project_subjects(project)\n",
    "        \n",
    "        ### Iterate over time_session/subject\n",
    "        for time_session in time_sessions:\n",
    "            for subject in subjects:\n",
    "                ### Set logger info\n",
    "                logger.set(project=project, subject=subject, time_session=time_session, task=task)\n",
    "            \n",
    "                ### Load necessary data\n",
    "                patient    = Patient(project, subject, time_session)\n",
    "                dicom_path = cloud.download(project, subject, time_session, task)\n",
    "                button     = Button(project, subject, time_session, task)\n",
    "                \n",
    "                ### Check all data exists\n",
    "                if not _valid_patient(patient, dicom_path, button, logger):\n",
    "                    continue\n",
    "                    \n",
    "                ### More setup\n",
    "                fmri_data = DicomDir(dicom_path)\n",
    "                fmri_data.cut_volumes(fmri_data.num_volumes - num_vols)\n",
    "                \n",
    "                ### Modeling\n",
    "                model.load(model_path)\n",
    "                model.run(patient, fmri_data, button)\n",
    "                model.save(model_path)"
   ]
  }
 ],
 "metadata": {
  "kernelspec": {
   "display_name": "Python 3",
   "language": "python",
   "name": "python3"
  },
  "language_info": {
   "codemirror_mode": {
    "name": "ipython",
    "version": 3
   },
   "file_extension": ".py",
   "mimetype": "text/x-python",
   "name": "python",
   "nbconvert_exporter": "python",
   "pygments_lexer": "ipython3",
   "version": "3.6.9"
  }
 },
 "nbformat": 4,
 "nbformat_minor": 2
}
