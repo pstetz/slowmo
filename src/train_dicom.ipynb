{
 "cells": [
  {
   "cell_type": "markdown",
   "metadata": {},
   "source": [
    "### Imports"
   ]
  },
  {
   "cell_type": "code",
   "execution_count": 1,
   "metadata": {},
   "outputs": [],
   "source": [
    "import os\n",
    "import flywheel\n",
    "import numpy as np\n",
    "import pandas as pd\n",
    "import nibabel as nib\n",
    "from glob import glob\n",
    "from os.path import join\n",
    "\n",
    "import tensorflow as tf\n",
    "from tensorflow import keras\n",
    "from tensorflow.keras import layers"
   ]
  },
  {
   "cell_type": "code",
   "execution_count": 11,
   "metadata": {},
   "outputs": [],
   "source": [
    "from tqdm import tqdm_notebook as tqdm\n",
    "from helpers import *"
   ]
  },
  {
   "cell_type": "code",
   "execution_count": 1,
   "metadata": {},
   "outputs": [],
   "source": [
    "# ### Custom helpers\n",
    "import sys\n",
    "sys.path.append(\"classes\")\n",
    "\n",
    "# from Model import Model\n",
    "# from Cloud import Cloud\n",
    "# from Button import Button\n",
    "from Dicom import Dicom\n",
    "from DicomDir import DicomDir\n",
    "# from Subject import Subject\n",
    "\n",
    "### Load objects\n",
    "# cloud = Cloud()\n",
    "# model = Model()"
   ]
  },
  {
   "cell_type": "code",
   "execution_count": 2,
   "metadata": {},
   "outputs": [
    {
     "name": "stderr",
     "output_type": "stream",
     "text": [
      "  0%|          | 6/6930 [00:00<02:12, 52.26it/s]"
     ]
    },
    {
     "name": "stdout",
     "output_type": "stream",
     "text": [
      "loading dicoms from /Users/pbezuhov/tmp/connectome-conn036-000_data_archive-conscious...\n",
      "Sorting dicoms by trigger time...\n"
     ]
    },
    {
     "name": "stderr",
     "output_type": "stream",
     "text": [
      "100%|██████████| 6930/6930 [02:13<00:00, 43.61it/s]\n",
      "100%|██████████| 6930/6930 [00:00<00:00, 174593.66it/s]\n"
     ]
    },
    {
     "ename": "NameError",
     "evalue": "name '_gen_data' is not defined",
     "output_type": "error",
     "traceback": [
      "\u001b[0;31m---------------------------------------------------------------------------\u001b[0m",
      "\u001b[0;31mNameError\u001b[0m                                 Traceback (most recent call last)",
      "\u001b[0;32m<ipython-input-2-e92ffbf991ca>\u001b[0m in \u001b[0;36m<module>\u001b[0;34m\u001b[0m\n\u001b[1;32m     11\u001b[0m \u001b[0mnum_volume\u001b[0m \u001b[0;34m=\u001b[0m \u001b[0;36m3\u001b[0m\u001b[0;34m\u001b[0m\u001b[0;34m\u001b[0m\u001b[0m\n\u001b[1;32m     12\u001b[0m \u001b[0mdicoms\u001b[0m\u001b[0;34m.\u001b[0m\u001b[0mcut_volumes\u001b[0m\u001b[0;34m(\u001b[0m\u001b[0;36m3\u001b[0m\u001b[0;34m)\u001b[0m\u001b[0;34m\u001b[0m\u001b[0;34m\u001b[0m\u001b[0m\n\u001b[0;32m---> 13\u001b[0;31m \u001b[0m_gen_data\u001b[0m\u001b[0;34m(\u001b[0m\u001b[0mproject\u001b[0m\u001b[0;34m,\u001b[0m \u001b[0mtask\u001b[0m\u001b[0;34m,\u001b[0m \u001b[0monsets\u001b[0m\u001b[0;34m,\u001b[0m \u001b[0mdicoms\u001b[0m\u001b[0;34m,\u001b[0m \u001b[0mpatient\u001b[0m\u001b[0;34m,\u001b[0m \u001b[0mis_ascending\u001b[0m\u001b[0;34m,\u001b[0m \u001b[0mnum_volume\u001b[0m\u001b[0;34m)\u001b[0m\u001b[0;34m\u001b[0m\u001b[0;34m\u001b[0m\u001b[0m\n\u001b[0m",
      "\u001b[0;31mNameError\u001b[0m: name '_gen_data' is not defined"
     ]
    }
   ],
   "source": [
    "project = \"connectome\"\n",
    "subject = \"conn036\"\n",
    "time_session = \"000_data_archive\"\n",
    "task = \"conscious\"\n",
    "path = \"/Users/pbezuhov/tmp/connectome-conn036-000_data_archive-conscious\"\n",
    "dicoms = DicomDir(path)\n",
    "\n",
    "onsets = None\n",
    "patient = None\n",
    "is_ascending = True # dicoms.is_ascending\n",
    "num_volume = 3\n",
    "dicoms.cut_volumes(3)"
   ]
  },
  {
   "cell_type": "code",
   "execution_count": 26,
   "metadata": {},
   "outputs": [
    {
     "data": {
      "application/vnd.jupyter.widget-view+json": {
       "model_id": "7522c05a36df40fab9440715e2c24144",
       "version_major": 2,
       "version_minor": 0
      },
      "text/plain": [
       "HBox(children=(IntProgress(value=0, max=143360), HTML(value='')))"
      ]
     },
     "metadata": {},
     "output_type": "display_data"
    }
   ],
   "source": [
    "df = _gen_data(project, task, onsets, dicoms, patient, is_ascending, num_volume)"
   ]
  },
  {
   "cell_type": "code",
   "execution_count": 29,
   "metadata": {},
   "outputs": [],
   "source": [
    "df.to_feather(\"/Users/pbezuhov/git/MRI-SlowMo/data/dev/feather/conn036_s1_conscious_v3.csv\")"
   ]
  },
  {
   "cell_type": "code",
   "execution_count": 30,
   "metadata": {},
   "outputs": [],
   "source": [
    "df.to_csv(\"/Users/pbezuhov/git/MRI-SlowMo/data/dev/csv/conn036_s1_conscious_v3.csv\", index=False)"
   ]
  },
  {
   "cell_type": "markdown",
   "metadata": {},
   "source": [
    "### Features\n",
    "\n",
    "TODO:\n",
    "- Working memory\n",
    "- SCL-20, other behaviorial data\n",
    "\n",
    "Make it faster:\n",
    "- remove project, task, and is_ascending information\n",
    "- buy external harddrive"
   ]
  },
  {
   "cell_type": "code",
   "execution_count": 3,
   "metadata": {},
   "outputs": [
    {
     "data": {
      "text/plain": [
       "('Number of features:', 1055)"
      ]
     },
     "execution_count": 3,
     "metadata": {},
     "output_type": "execute_result"
    }
   ],
   "source": [
    "num_features = (\n",
    "    2* (len(voxel_radius(5))) + # 4 radius voxels (previous and next volume)\n",
    "#     (2* ((4 * 2) + 1)) + # trigger time for 4-radius (previous and next volume)\n",
    "    1 + # trigger_time for current voxel\n",
    "    1 + # is_ascending\n",
    "    2 + # time since last gonogo stimuli\n",
    "    2 + # time since go/nogo bloack started\n",
    "    6 + # time since faces stimuli\n",
    "    6 + # time since faces block started\n",
    "    1 + # time since keypress (any)\n",
    "    2 + # gender, age\n",
    "    3 + # task identifier (is_gonogo, is_(non)conscious)\n",
    "    3 + # study identifier (conn, engage, rad)\n",
    "    0\n",
    ")\n",
    "\"Number of features:\", num_features"
   ]
  },
  {
   "cell_type": "markdown",
   "metadata": {},
   "source": [
    "### Load settings"
   ]
  },
  {
   "cell_type": "code",
   "execution_count": 5,
   "metadata": {
    "collapsed": true
   },
   "outputs": [],
   "source": [
    "tasks  = \"config/tasks.json\"\n",
    "EPOCHS = 100"
   ]
  },
  {
   "cell_type": "markdown",
   "metadata": {},
   "source": [
    "### Helpers\n",
    "\n",
    "Move these to own file when done"
   ]
  },
  {
   "cell_type": "code",
   "execution_count": 25,
   "metadata": {},
   "outputs": [],
   "source": [
    "def _train_task(project, task, onsets, data, patient, is_ascending):\n",
    "    for num_volume in len(data.shape[-1]):\n",
    "        df = _gen_data(project, task, onsets, volume, patient, is_ascending, num_volume)\n",
    "        model.train(df)\n",
    "\n",
    "def _volume_data(dicoms, x, y, z, t, direction, radius):\n",
    "    row = dict()\n",
    "    volume = dicoms.get_volume(t + direction)\n",
    "    for coord in voxel_radius(radius):\n",
    "        i, j, k  = coord[\"x\"], coord[\"y\"], coord[\"z\"]\n",
    "        loc      = \"i%d_j%d_k%d_t%d\" % (i, j, k, direction)\n",
    "        row[loc] = volume[x+i, y+j ,z+k]\n",
    "    return row\n",
    "\n",
    "def _gen_avail_volumes(shape, radius):\n",
    "    x_min, x_max = radius, shape[0] - radius\n",
    "    y_min, y_max = radius, shape[1] - radius\n",
    "    z_min, z_max = radius, shape[2] - radius\n",
    "    return [(x, y, z) for x in range(x_min, x_max)\n",
    "                      for y in range(y_min, y_max)\n",
    "                      for z in range(z_min, z_max)\n",
    "           ]\n",
    "        \n",
    "def _gen_data(project, task, onsets, dicoms, patient, is_ascending, num_volume, radius=5):\n",
    "    avail_volumes = _gen_avail_volumes(dicoms.shape, radius)\n",
    "    curr_volume   = dicoms.get_volume(num_volume)\n",
    "    rows = list()\n",
    "    for x, y, z in tqdm(avail_volumes):\n",
    "        _prev = _volume_data(dicoms, x, y, z, num_volume, -1, radius)\n",
    "        _next = _volume_data(dicoms, x, y, z, num_volume, 1,  radius)\n",
    "        row = {**_prev, **_next}\n",
    "        row[\"signal\"] = curr_volume[x, y, z]\n",
    "        row[\"x\"] = x\n",
    "        row[\"y\"] = y\n",
    "        row[\"z\"] = z\n",
    "        rows.append(row)\n",
    "    df = pd.DataFrame(rows)\n",
    "    \n",
    "    ### patient data\n",
    "#     df[\"age\"] = patient.age\n",
    "#     df[\"is_female\"] = (patient.gender == \"female\")\n",
    "    \n",
    "    ### Project data\n",
    "    df[\"is_rad\"]        = int(project == \"rad\")\n",
    "    df[\"is_engage\"]     = int(project == \"engage\")\n",
    "    df[\"is_connectome\"] = int(project == \"connectome\")\n",
    "    \n",
    "    ### task data\n",
    "    df[\"is_gng\"] = int(task == \"gonogo\")\n",
    "    df[\"is_fc\"]  = int(task == \"conscious\")\n",
    "    df[\"is_fnc\"] = int(task == \"nonconscious\")\n",
    "    \n",
    "    ### fMRI data\n",
    "    df[\"ascending\"] = int(is_ascending)\n",
    "    return df"
   ]
  },
  {
   "cell_type": "code",
   "execution_count": 5,
   "metadata": {},
   "outputs": [
    {
     "name": "stdout",
     "output_type": "stream",
     "text": [
      "Downloading /Users/pbezuhov/tmp/connectome-conn036-000_data_archive-conscious.dicom.zip...\n"
     ]
    }
   ],
   "source": [
    "project = \"connectome\"\n",
    "subject = \"conn036\"\n",
    "time_session = \"000_data_archive\"\n",
    "task = \"conscious\"\n",
    "path = cloud.download(project, subject, time_session, task)"
   ]
  },
  {
   "cell_type": "code",
   "execution_count": 6,
   "metadata": {},
   "outputs": [
    {
     "name": "stdout",
     "output_type": "stream",
     "text": [
      "unzipping /Users/pbezuhov/tmp/connectome-conn036-000_data_archive-conscious.dicom.zip...\n"
     ]
    },
    {
     "name": "stderr",
     "output_type": "stream",
     "text": [
      "  0%|          | 6/6930 [00:00<01:59, 58.13it/s]"
     ]
    },
    {
     "name": "stdout",
     "output_type": "stream",
     "text": [
      "removing old path /Users/pbezuhov/tmp/connectome-conn036-000_data_archive-conscious.dicom.zip...\n",
      "loading dicoms from /Users/pbezuhov/tmp/connectome-conn036-000_data_archive-conscious...\n",
      "Sorting dicoms by trigger time...\n"
     ]
    },
    {
     "name": "stderr",
     "output_type": "stream",
     "text": [
      "100%|██████████| 6930/6930 [02:18<00:00, 50.11it/s]\n",
      "100%|██████████| 6930/6930 [00:00<00:00, 225836.61it/s]\n"
     ]
    }
   ],
   "source": [
    "project = \"connectome\"\n",
    "subject = \"conn036\"\n",
    "time_session = \"000_data_archive\"\n",
    "task = \"conscious\"\n",
    "path = \"/Users/pbezuhov/tmp/connectome-conn036-000_data_archive-conscious\"\n",
    "dicoms = DicomDir(path)"
   ]
  },
  {
   "cell_type": "code",
   "execution_count": 8,
   "metadata": {},
   "outputs": [
    {
     "ename": "AttributeError",
     "evalue": "'DicomDir' object has no attribute 'shape'",
     "output_type": "error",
     "traceback": [
      "\u001b[0;31m---------------------------------------------------------------------------\u001b[0m",
      "\u001b[0;31mAttributeError\u001b[0m                            Traceback (most recent call last)",
      "\u001b[0;32m<ipython-input-8-ef5cb6a36a54>\u001b[0m in \u001b[0;36m<module>\u001b[0;34m\u001b[0m\n\u001b[1;32m      4\u001b[0m \u001b[0mnum_volume\u001b[0m \u001b[0;34m=\u001b[0m \u001b[0;36m3\u001b[0m\u001b[0;34m\u001b[0m\u001b[0;34m\u001b[0m\u001b[0m\n\u001b[1;32m      5\u001b[0m \u001b[0;31m# dicoms._cut_volumes(3)\u001b[0m\u001b[0;34m\u001b[0m\u001b[0;34m\u001b[0m\u001b[0;34m\u001b[0m\u001b[0m\n\u001b[0;32m----> 6\u001b[0;31m \u001b[0m_gen_data\u001b[0m\u001b[0;34m(\u001b[0m\u001b[0mproject\u001b[0m\u001b[0;34m,\u001b[0m \u001b[0mtask\u001b[0m\u001b[0;34m,\u001b[0m \u001b[0monsets\u001b[0m\u001b[0;34m,\u001b[0m \u001b[0mdicoms\u001b[0m\u001b[0;34m,\u001b[0m \u001b[0mpatient\u001b[0m\u001b[0;34m,\u001b[0m \u001b[0mis_ascending\u001b[0m\u001b[0;34m,\u001b[0m \u001b[0mnum_volume\u001b[0m\u001b[0;34m)\u001b[0m\u001b[0;34m\u001b[0m\u001b[0;34m\u001b[0m\u001b[0m\n\u001b[0m",
      "\u001b[0;32m<ipython-input-4-85dbb113741e>\u001b[0m in \u001b[0;36m_gen_data\u001b[0;34m(project, task, onsets, dicoms, patient, is_ascending, num_volume, radius)\u001b[0m\n\u001b[1;32m     23\u001b[0m \u001b[0;34m\u001b[0m\u001b[0m\n\u001b[1;32m     24\u001b[0m \u001b[0;32mdef\u001b[0m \u001b[0m_gen_data\u001b[0m\u001b[0;34m(\u001b[0m\u001b[0mproject\u001b[0m\u001b[0;34m,\u001b[0m \u001b[0mtask\u001b[0m\u001b[0;34m,\u001b[0m \u001b[0monsets\u001b[0m\u001b[0;34m,\u001b[0m \u001b[0mdicoms\u001b[0m\u001b[0;34m,\u001b[0m \u001b[0mpatient\u001b[0m\u001b[0;34m,\u001b[0m \u001b[0mis_ascending\u001b[0m\u001b[0;34m,\u001b[0m \u001b[0mnum_volume\u001b[0m\u001b[0;34m,\u001b[0m \u001b[0mradius\u001b[0m\u001b[0;34m=\u001b[0m\u001b[0;36m5\u001b[0m\u001b[0;34m)\u001b[0m\u001b[0;34m:\u001b[0m\u001b[0;34m\u001b[0m\u001b[0;34m\u001b[0m\u001b[0m\n\u001b[0;32m---> 25\u001b[0;31m     \u001b[0mavail_volumes\u001b[0m \u001b[0;34m=\u001b[0m \u001b[0m_gen_avail_volumes\u001b[0m\u001b[0;34m(\u001b[0m\u001b[0mdicoms\u001b[0m\u001b[0;34m.\u001b[0m\u001b[0mshape\u001b[0m\u001b[0;34m)\u001b[0m\u001b[0;34m\u001b[0m\u001b[0;34m\u001b[0m\u001b[0m\n\u001b[0m\u001b[1;32m     26\u001b[0m     \u001b[0;32mfor\u001b[0m \u001b[0mx\u001b[0m\u001b[0;34m,\u001b[0m \u001b[0my\u001b[0m\u001b[0;34m,\u001b[0m \u001b[0mz\u001b[0m \u001b[0;32min\u001b[0m \u001b[0mavail_volumes\u001b[0m\u001b[0;34m:\u001b[0m\u001b[0;34m\u001b[0m\u001b[0;34m\u001b[0m\u001b[0m\n\u001b[1;32m     27\u001b[0m         \u001b[0m_prev\u001b[0m \u001b[0;34m=\u001b[0m \u001b[0m_volume_data\u001b[0m\u001b[0;34m(\u001b[0m\u001b[0mdicoms\u001b[0m\u001b[0;34m,\u001b[0m \u001b[0mx\u001b[0m\u001b[0;34m,\u001b[0m \u001b[0my\u001b[0m\u001b[0;34m,\u001b[0m \u001b[0mz\u001b[0m\u001b[0;34m,\u001b[0m \u001b[0mnum_volume\u001b[0m\u001b[0;34m,\u001b[0m \u001b[0;34m-\u001b[0m\u001b[0;36m1\u001b[0m\u001b[0;34m,\u001b[0m \u001b[0mradius\u001b[0m\u001b[0;34m)\u001b[0m\u001b[0;34m\u001b[0m\u001b[0;34m\u001b[0m\u001b[0m\n",
      "\u001b[0;31mAttributeError\u001b[0m: 'DicomDir' object has no attribute 'shape'"
     ]
    }
   ],
   "source": [
    "project = \"connectome\"\n",
    "subject = \"conn036\"\n",
    "time_session = \"000_data_archive\"\n",
    "task = \"conscious\"\n",
    "path = \"/Users/pbezuhov/tmp/connectome-conn036-000_data_archive-conscious\"\n",
    "dicoms = DicomDir(path)\n",
    "\n",
    "onsets = None\n",
    "patient = None\n",
    "is_ascending = True # dicoms.is_ascending\n",
    "num_volume = 3\n",
    "# dicoms._cut_volumes(3)\n",
    "_gen_data(project, task, onsets, dicoms, patient, is_ascending, num_volume)"
   ]
  },
  {
   "cell_type": "markdown",
   "metadata": {},
   "source": [
    "### Build model"
   ]
  },
  {
   "cell_type": "code",
   "execution_count": 19,
   "metadata": {},
   "outputs": [],
   "source": [
    "def build_model(num_features):\n",
    "    model = keras.Sequential([\n",
    "        layers.Dense(64, activation=tf.nn.relu, input_shape=(num_features, 1)),\n",
    "        layers.Conv1D(100, 5, activation=tf.nn.relu), ### FIXME: check the filters and kernel_size\n",
    "        layers.Dense(64, activation=tf.nn.relu),\n",
    "        layers.AveragePooling1D(pool_size=2),\n",
    "        layers.Dense(32, activation=tf.nn.relu),\n",
    "        layers.Dense(1)\n",
    "    ])\n",
    "\n",
    "    optimizer = tf.keras.optimizers.Adam()\n",
    "\n",
    "    model.compile(\n",
    "        loss='mean_squared_error',\n",
    "        optimizer=optimizer,\n",
    "        metrics=['mean_absolute_error', 'mean_squared_error']\n",
    "    )\n",
    "    return model\n",
    "\n",
    "model = build_model(num_features)"
   ]
  },
  {
   "cell_type": "code",
   "execution_count": null,
   "metadata": {
    "collapsed": true
   },
   "outputs": [],
   "source": [
    "### Iterate over tasks\n",
    "for task in tasks:\n",
    "    task_info = tasks[task]\n",
    "    num_vols  = task_info[\"vol\"]\n",
    "    if \"project\" in task_info:\n",
    "        projects = task_info[\"project\"]\n",
    "    else:\n",
    "        projects = [\"rad\", \"connectome\", \"engage\"]\n",
    "        \n",
    "    ### Iterate over projects\n",
    "    for project in projects:\n",
    "        time_sessions = project_config[\"time_sessions\"]\n",
    "        subjects = load_project_subjects(project)\n",
    "        \n",
    "        ### Iterate over time_session/subject\n",
    "        for time_session in time_sessions:\n",
    "            for subject in subjects:\n",
    "                ### Set logger info\n",
    "                logger.set(project=project, subject=subject, time_session=time_session, task=task)\n",
    "            \n",
    "                ### Load necessary data\n",
    "                patient    = Patient(project, subject, time_session)\n",
    "                dicom_path = cloud.download(project, subject, time_session, task)\n",
    "                button     = Button(project, subject, time_session, task)\n",
    "                \n",
    "                ### Check all data exists\n",
    "                if not _valid_patient(patient, dicom_path, button, logger):\n",
    "                    continue\n",
    "                    \n",
    "                ### More setup\n",
    "                fmri_data = DicomDir(dicom_path)\n",
    "                fmri_data.cut_volumes(fmri_data.num_volumes - num_vols)\n",
    "                \n",
    "                ### Modeling\n",
    "                model.load(model_path)\n",
    "                model.run(patient, fmri_data, button)\n",
    "                model.save(model_path)"
   ]
  }
 ],
 "metadata": {
  "kernelspec": {
   "display_name": "Python 3",
   "language": "python",
   "name": "python3"
  }
 },
 "nbformat": 4,
 "nbformat_minor": 2
}
