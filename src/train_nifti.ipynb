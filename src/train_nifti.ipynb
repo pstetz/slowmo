{
 "cells": [
  {
   "cell_type": "markdown",
   "metadata": {},
   "source": [
    "### Imports"
   ]
  },
  {
   "cell_type": "code",
   "execution_count": 4,
   "metadata": {},
   "outputs": [],
   "source": [
    "### Standard imports\n",
    "import os\n",
    "import shutil\n",
    "import numpy as np\n",
    "import pandas as pd\n",
    "import nibabel as nib\n",
    "import tensorflow as tf\n",
    "from glob import glob\n",
    "from os.path import join\n",
    "\n",
    "\n",
    "### Custom helpers\n",
    "import sys\n",
    "from helpers import *"
   ]
  },
  {
   "cell_type": "markdown",
   "metadata": {},
   "source": [
    "### Grey masks"
   ]
  },
  {
   "cell_type": "code",
   "execution_count": 40,
   "metadata": {},
   "outputs": [
    {
     "name": "stdout",
     "output_type": "stream",
     "text": [
      "{'001716': True, '013136': False, '073720': False, '125909': False, '131520': False, '156999': False, '176064': False, '182355': False, '216192': False, '275836': False, '291082': False, '414207': False, '426426': False, '447647': False, '450767': False, '477522': False, '525931': False, '532911': False, '533294': False, '534482': False, '707656': False, '752691': False, '779062': False, '791103': False, '831650': False, '877949': False, '911981': False, '954861': False}\n"
     ]
    }
   ],
   "source": [
    "masks = glob(\"/Volumes/hd_4tb/masks/plip/*\")\n",
    "masks = [{\n",
    "    \"code\": os.path.basename(mask).split(\"_\")[0],\n",
    "    \"data\": nib.load(mask).get_data(),\n",
    "} for mask in masks]\n",
    "\n",
    "def _in_mask(masks, x, y, z):\n",
    "    result = dict()\n",
    "    for mask in masks:\n",
    "        code = mask[\"code\"]\n",
    "        data = mask[\"data\"]\n",
    "        result[code] = bool(data[x, y, z])\n",
    "    return result\n",
    "\n",
    "print(_in_mask(masks, 49, 66, 33))"
   ]
  },
  {
   "cell_type": "markdown",
   "metadata": {},
   "source": [
    "### fMRI"
   ]
  },
  {
   "cell_type": "code",
   "execution_count": 53,
   "metadata": {},
   "outputs": [],
   "source": [
    "def _time_map(session):\n",
    "    _map = {\n",
    "        \"s1\": \"000\", \"s2\": \"2MO\", \"s3\": \"6MO\", \"s4\": \"12MO\", \"s5\": \"24MO\"\n",
    "    }\n",
    "    return _map[session]\n",
    "\n",
    "def _get(row, item):\n",
    "    return row[item]\n",
    "\n",
    "def _fmri_path(row):\n",
    "    project = _get(row, \"project\")\n",
    "    subject = _get(row, \"subject\")\n",
    "    time_session = _get(row, \"time_session\")\n",
    "    task = _get(row, \"task\")\n",
    "    return join(_input, project, _time_map(time_session), subject, task)\n",
    "\n",
    "def nii_input(data, x, y, z, t, r = 2):\n",
    "    return data[\n",
    "        x - r : x + r + 1,\n",
    "        y - r : y + r + 1,\n",
    "        z - r : z + r + 1,\n",
    "        t\n",
    "    ]"
   ]
  },
  {
   "cell_type": "markdown",
   "metadata": {},
   "source": [
    "### Train"
   ]
  },
  {
   "cell_type": "code",
   "execution_count": 122,
   "metadata": {
    "scrolled": false
   },
   "outputs": [
    {
     "data": {
      "application/vnd.jupyter.widget-view+json": {
       "model_id": "71bf8dd83abf4130877780085b2ffa1e",
       "version_major": 2,
       "version_minor": 0
      },
      "text/plain": [
       "HBox(children=(IntProgress(value=1, bar_style='info', max=1), HTML(value='')))"
      ]
     },
     "metadata": {},
     "output_type": "display_data"
    },
    {
     "name": "stdout",
     "output_type": "stream",
     "text": [
      "age                 22.3918\n",
      "is_adam               False\n",
      "is_ascending          False\n",
      "is_bailey             False\n",
      "is_connhc              True\n",
      "is_connmdd            False\n",
      "is_conscious           True\n",
      "is_david              False\n",
      "is_descending          True\n",
      "is_engage             False\n",
      "is_female              True\n",
      "is_gonogo             False\n",
      "is_katherine           True\n",
      "is_male               False\n",
      "is_mb                 False\n",
      "is_megan              False\n",
      "is_melissa            False\n",
      "is_misc_operator      False\n",
      "is_monica             False\n",
      "is_nonconscious       False\n",
      "is_norween            False\n",
      "is_rad                False\n",
      "is_s1                  True\n",
      "is_s2                 False\n",
      "is_s3                 False\n",
      "is_s4                 False\n",
      "is_s5                 False\n",
      "is_sarah              False\n",
      "is_workingmem         False\n",
      "Name: 0, dtype: object\n",
      "\n"
     ]
    },
    {
     "ename": "RuntimeError",
     "evalue": "No active exception to reraise",
     "output_type": "error",
     "traceback": [
      "\u001b[0;31m---------------------------------------------------------------------------\u001b[0m",
      "\u001b[0;31mRuntimeError\u001b[0m                              Traceback (most recent call last)",
      "\u001b[0;32m<ipython-input-122-bc6de51c9f69>\u001b[0m in \u001b[0;36m<module>\u001b[0;34m\u001b[0m\n\u001b[1;32m     10\u001b[0m \u001b[0;32mfor\u001b[0m \u001b[0mi\u001b[0m\u001b[0;34m,\u001b[0m \u001b[0mrow\u001b[0m \u001b[0;32min\u001b[0m \u001b[0mtqdm\u001b[0m\u001b[0;34m(\u001b[0m\u001b[0mdf\u001b[0m\u001b[0;34m.\u001b[0m\u001b[0miterrows\u001b[0m\u001b[0;34m(\u001b[0m\u001b[0;34m)\u001b[0m\u001b[0;34m)\u001b[0m\u001b[0;34m:\u001b[0m\u001b[0;34m\u001b[0m\u001b[0;34m\u001b[0m\u001b[0m\n\u001b[1;32m     11\u001b[0m     \u001b[0mprint\u001b[0m\u001b[0;34m(\u001b[0m\u001b[0mrow\u001b[0m\u001b[0;34m)\u001b[0m\u001b[0;34m\u001b[0m\u001b[0;34m\u001b[0m\u001b[0m\n\u001b[0;32m---> 12\u001b[0;31m     \u001b[0;32mraise\u001b[0m\u001b[0;34m\u001b[0m\u001b[0;34m\u001b[0m\u001b[0m\n\u001b[0m\u001b[1;32m     13\u001b[0m     \u001b[0mfmri_path\u001b[0m \u001b[0;34m=\u001b[0m \u001b[0m_fmri_path\u001b[0m\u001b[0;34m(\u001b[0m\u001b[0mrow\u001b[0m\u001b[0;34m)\u001b[0m\u001b[0;34m\u001b[0m\u001b[0;34m\u001b[0m\u001b[0m\n\u001b[1;32m     14\u001b[0m \u001b[0;31m# fmri = join(fmri_path, \"normalized.nii.gz\")\u001b[0m\u001b[0;34m\u001b[0m\u001b[0;34m\u001b[0m\u001b[0;34m\u001b[0m\u001b[0m\n",
      "\u001b[0;31mRuntimeError\u001b[0m: No active exception to reraise"
     ]
    }
   ],
   "source": [
    "df = pd.read_csv(\"/Volumes/hd_4tb/project/model_input.csv\")\n",
    "_input = \"/Volumes/hd_4tb/raw\"\n",
    "\n",
    "# for x, y, z in gen_avail_volumes(data.shape, radius=5):\n",
    "#     for t in range(1, data.shape[-1] - 1):\n",
    "#         before = nii_input(data, x, y, z, t-1)\n",
    "#         after  = nii_input(data, x, y, z, t+1)\n",
    "#         grey_masks = _in_masks(data, x, y, z, masks)\n",
    "\n",
    "for i, row in tqdm(df.iterrows()):\n",
    "    print(row)\n",
    "    raise\n",
    "    fmri_path = _fmri_path(row)\n",
    "# fmri = join(fmri_path, \"normalized.nii.gz\")\n",
    "# onsets = join(fmri_path, \"onsets.csv\")\n",
    "# grey = join(fmri_path, \"..\", \"structural\", \"gm_probseg.nii.gz\")"
   ]
  },
  {
   "cell_type": "code",
   "execution_count": null,
   "metadata": {},
   "outputs": [],
   "source": []
  }
 ],
 "metadata": {
  "kernelspec": {
   "display_name": "Python 3",
   "language": "python",
   "name": "python3"
  },
  "language_info": {
   "codemirror_mode": {
    "name": "ipython",
    "version": 3
   },
   "file_extension": ".py",
   "mimetype": "text/x-python",
   "name": "python",
   "nbconvert_exporter": "python",
   "pygments_lexer": "ipython3",
   "version": "3.7.3"
  }
 },
 "nbformat": 4,
 "nbformat_minor": 2
}
