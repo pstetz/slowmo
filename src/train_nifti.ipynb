{
 "cells": [
  {
   "cell_type": "markdown",
   "metadata": {},
   "source": [
    "### Imports"
   ]
  },
  {
   "cell_type": "code",
   "execution_count": 4,
   "metadata": {},
   "outputs": [],
   "source": [
    "### Standard imports\n",
    "import os\n",
    "import shutil\n",
    "import numpy as np\n",
    "import pandas as pd\n",
    "import nibabel as nib\n",
    "import tensorflow as tf\n",
    "from glob import glob\n",
    "from os.path import join\n",
    "\n",
    "\n",
    "### Custom helpers\n",
    "import sys\n",
    "from helpers import *"
   ]
  },
  {
   "cell_type": "markdown",
   "metadata": {},
   "source": [
    "### Grey masks"
   ]
  },
  {
   "cell_type": "code",
   "execution_count": 40,
   "metadata": {},
   "outputs": [
    {
     "name": "stdout",
     "output_type": "stream",
     "text": [
      "{'001716': True, '013136': False, '073720': False, '125909': False, '131520': False, '156999': False, '176064': False, '182355': False, '216192': False, '275836': False, '291082': False, '414207': False, '426426': False, '447647': False, '450767': False, '477522': False, '525931': False, '532911': False, '533294': False, '534482': False, '707656': False, '752691': False, '779062': False, '791103': False, '831650': False, '877949': False, '911981': False, '954861': False}\n"
     ]
    }
   ],
   "source": [
    "masks = glob(\"/Volumes/hd_4tb/masks/plip/*\")\n",
    "masks = [{\n",
    "    \"code\": os.path.basename(mask).split(\"_\")[0],\n",
    "    \"data\": nib.load(mask).get_data(),\n",
    "} for mask in masks]\n",
    "\n",
    "def _in_mask(masks, x, y, z):\n",
    "    result = dict()\n",
    "    for mask in masks:\n",
    "        code = mask[\"code\"]\n",
    "        data = mask[\"data\"]\n",
    "        result[code] = bool(data[x, y, z])\n",
    "    return result\n",
    "\n",
    "print(_in_mask(masks, 49, 66, 33))"
   ]
  },
  {
   "cell_type": "markdown",
   "metadata": {},
   "source": [
    "### Task"
   ]
  },
  {
   "cell_type": "code",
   "execution_count": 3,
   "metadata": {},
   "outputs": [],
   "source": [
    "def _is_task(task, name):\n",
    "    if task == \"gonogo\" and task == name:\n",
    "        return True\n",
    "    elif task == \"conscious\" and task == name:\n",
    "        return True\n",
    "    elif task == \"nonconscious\" and task == name:\n",
    "        return True\n",
    "    elif task in [\"workingmemSB\", \"workingmemMB\"] and task == \"workingmem\":\n",
    "        return True\n",
    "    return False"
   ]
  },
  {
   "cell_type": "markdown",
   "metadata": {},
   "source": [
    "### Operator"
   ]
  },
  {
   "cell_type": "code",
   "execution_count": 1,
   "metadata": {},
   "outputs": [],
   "source": [
    "operators = {\n",
    "    \"adam\": {\"^apines\", \"apines\", \"Pines^Adam\", \"^apine\"},\n",
    "    \"katherine\": {\"kgrisanz\", \"^kgrisanz\"},\n",
    "    \"monica\": {\"^mkullar\", \"mkullar\", \"^mkullat\"},\n",
    "    \"norween\": {\"^nowreen\", \"nowreen\"},\n",
    "    \"sarah\": {\"sarchang\"},\n",
    "    \"melissa\": {\"mshiner\"},\n",
    "    \"david\": {\"choidd\", \"chiodd\"},\n",
    "    \"bailey\": {\"bholtgos\"},\n",
    "    \"megan\": {\"mchesnut\"},\n",
    "}\n",
    "\n",
    "def _is_operator(name):\n",
    "    def wrap(operator):\n",
    "        names = operators[name]\n",
    "        return operator in names\n",
    "    return wrap"
   ]
  },
  {
   "cell_type": "markdown",
   "metadata": {},
   "source": [
    "### fMRI"
   ]
  },
  {
   "cell_type": "code",
   "execution_count": 51,
   "metadata": {},
   "outputs": [],
   "source": [
    "valid = pd.read_csv(\"/Volumes/hd_4tb/raw/info.csv\")\n",
    "\n",
    "def _time_map(session):\n",
    "    _map = {\n",
    "        \"s1\": \"000\", \"s2\": \"2MO\", \"s3\": \"6MO\", \"s4\": \"12MO\", \"s5\": \"24MO\"\n",
    "    }\n",
    "    return _map[session]\n",
    "\n",
    "def _get(row, item):\n",
    "    return row[item]\n",
    "\n",
    "def _fmri_path(row):\n",
    "    project = _get(row, \"project\")\n",
    "    subject = _get(row, \"subject\")\n",
    "    time_session = _get(row, \"time_session\")\n",
    "    task = _get(row, \"task\")\n",
    "    return join(_input, project, _time_map(time_session), subject, task)\n",
    "\n",
    "def nii_input(data, x, y, z, t, r = 2):\n",
    "    return data[\n",
    "        x - r : x + r + 1,\n",
    "        y - r : y + r + 1,\n",
    "        z - r : z + r + 1,\n",
    "        t\n",
    "    ]"
   ]
  },
  {
   "cell_type": "markdown",
   "metadata": {},
   "source": [
    "### Train"
   ]
  },
  {
   "cell_type": "code",
   "execution_count": 50,
   "metadata": {
    "scrolled": false
   },
   "outputs": [],
   "source": [
    "_input = \"/Volumes/hd_4tb/raw\"\n",
    "\n",
    "for x, y, z in gen_avail_volumes(data.shape, radius=5):\n",
    "    for t in range(1, data.shape[-1] - 1):\n",
    "        before = nii_input(data, x, y, z, t-1)\n",
    "        after  = nii_input(data, x, y, z, t+1)\n",
    "        grey_masks = _in_masks(data, x, y, z, masks)\n",
    "\n",
    "for i, row in valid.iterrows():\n",
    "    fmri_path = _fmri_path(row)\n",
    "    fmri = join(fmri_path, \"normalized.nii.gz\")\n",
    "    onsets = join(fmri_path, \"onsets.csv\")\n",
    "    grey = join(fmri_path, \"..\", \"structural\", \"gm_probseg.nii.gz\")"
   ]
  },
  {
   "cell_type": "code",
   "execution_count": null,
   "metadata": {},
   "outputs": [],
   "source": []
  }
 ],
 "metadata": {
  "kernelspec": {
   "display_name": "Python 3",
   "language": "python",
   "name": "python3"
  },
  "language_info": {
   "codemirror_mode": {
    "name": "ipython",
    "version": 3
   },
   "file_extension": ".py",
   "mimetype": "text/x-python",
   "name": "python",
   "nbconvert_exporter": "python",
   "pygments_lexer": "ipython3",
   "version": "3.7.3"
  }
 },
 "nbformat": 4,
 "nbformat_minor": 2
}
