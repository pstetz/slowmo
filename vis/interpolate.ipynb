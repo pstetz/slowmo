{
 "cells": [
  {
   "cell_type": "markdown",
   "metadata": {},
   "source": [
    "### Imports"
   ]
  },
  {
   "cell_type": "code",
   "execution_count": 1,
   "metadata": {},
   "outputs": [],
   "source": [
    "import ast\n",
    "import sys\n",
    "import json\n",
    "import pickle\n",
    "import numpy as np\n",
    "import pandas as pd\n",
    "import tensorflow as tf\n",
    "from tqdm.notebook import tqdm\n",
    "from os.path import basename, dirname, isdir, isfile, join\n",
    "\n",
    "sys.path.append(\"../setup/\")\n",
    "from gen_data import *"
   ]
  },
  {
   "cell_type": "markdown",
   "metadata": {},
   "source": [
    "### Setup model"
   ]
  },
  {
   "cell_type": "code",
   "execution_count": 3,
   "metadata": {},
   "outputs": [],
   "source": [
    "# model = keras.models.load_model(\"/Volumes/hd_4tb/results/runs/run_2/2_nonlinear.h5\")\n",
    "model_path = \"/Users/pstetz/Desktop/confidential/.project/run/lgbm/3_full_data.pkl\"\n",
    "with open(model_path, \"rb\") as f:\n",
    "    model = pickle.load(f)\n",
    "    \n",
    "with open(\"/Users/pstetz/Desktop/confidential/.project/summary/norm.json\", \"r\") as f:\n",
    "    norm_info = json.load(f)\n",
    "    \n",
    "with open (\"/Users/pstetz/Desktop/confidential/.project/summary/info_order.json\", \"r\") as f:\n",
    "    order = json.load(f)\n",
    "    \n",
    "norm_info = {order[k]: v for k, v in norm_info.items()}"
   ]
  },
  {
   "cell_type": "markdown",
   "metadata": {},
   "source": [
    "### Setup data"
   ]
  },
  {
   "cell_type": "code",
   "execution_count": 4,
   "metadata": {},
   "outputs": [],
   "source": [
    "def _grey_mean_std(stats_file):\n",
    "    with open(stats_file, \"r\") as f:\n",
    "        data = json.load(f)\n",
    "        data = ast.literal_eval(data)\n",
    "        data = ast.literal_eval(data)\n",
    "    means, stds = [], []\n",
    "    for k, v in data.items():\n",
    "        means.append(v[\"mean\"])\n",
    "        stds.append(v[\"std\"])\n",
    "    mn = sum(means) / len(means)\n",
    "    std = (sum([e**2 for e in stds]) / len(means)) ** 0.5\n",
    "    return mn, std\n",
    "\n",
    "root = \"/Users/pstetz/Desktop/confidential/.project\"\n",
    "df = pd.read_csv(join(root, \"summary/model_input.csv\"))\n",
    "onset_df = pd.read_csv(join(root, \"interpolate/raw/conn152/gonogo/onsets.csv\"))\n",
    "gvol = nib.load(join(root, \"interpolate/raw/conn152/structural/gm_probseg.nii.gz\")).get_fdata()\n",
    "grey_mean, grey_std = _grey_mean_std(\"/Users/pstetz/Desktop/confidential/.project/summary/grey_norm.json\")\n",
    "gvol[:, :, :] = np.divide(np.subtract(gvol[:, :, :], grey_mean), grey_std)\n",
    "\n",
    "mask_dir = \"/Users/pstetz/Desktop/confidential/.project/masks\"\n",
    "available_volumes = np.load(\"../setup/available_volumes.npy\")\n",
    "masks = load_masks(mask_dir)\n",
    "train_cols = [c for c in df.columns if c.startswith(\"is_\")] + [\"age\"]"
   ]
  },
  {
   "cell_type": "markdown",
   "metadata": {},
   "source": [
    "### Helper functions"
   ]
  },
  {
   "cell_type": "code",
   "execution_count": 10,
   "metadata": {},
   "outputs": [],
   "source": [
    "def _inbetween_file(path1, path2):\n",
    "    \"\"\"\n",
    "    z --> indicates half step forwards\n",
    "    a --> indicates half step back\n",
    "    s --> indicates a stop\n",
    "    \"\"\"\n",
    "    name1, name2 = basename(path1), basename(path2)\n",
    "    directory = dirname(path1)\n",
    "    if not name1.endswith(\"s.npy\") and not name2.endswith(\"s.npy\"):\n",
    "        return join(directory, name1.replace(\".npy\", \"_zs.npy\"))\n",
    "    elif len(name1) > len(name2):\n",
    "        return join(directory, name1.replace(\"s.npy\", \"zs.npy\"))\n",
    "    return join(directory, name2.replace(\"s.npy\", \"as.npy\"))\n",
    "\n",
    "def _get_time(path, TR=2):\n",
    "    name = basename(path).replace(\"s.npy\", \"\")\n",
    "    if \"_\" not in name:\n",
    "        return TR * int(name)\n",
    "    _time = int(name.split(\"_\")[0]) * TR\n",
    "    for i, c in name.split(\"_\")[1]:\n",
    "        if c == \"a\":\n",
    "            _time -= 1 / 2**(i+1)\n",
    "        elif c == \"z\":\n",
    "            _time += 1 / 2**(i+1)\n",
    "        else: raise\n",
    "    return _time\n",
    "\n",
    "def norm_features(x, norm_info):\n",
    "    for feat in x.columns:\n",
    "        mn = norm_info[feat][\"mean\"]\n",
    "        std = norm_info[feat][\"std\"]\n",
    "        x[feat] = np.divide(np.subtract(x[feat], mn), std)\n",
    "    return x\n",
    "\n",
    "def mean_activation(masks, pvol, nvol, gvol):\n",
    "    activations = dict()\n",
    "    for label, volume in [(\"prev\", pvol), (\"next\", nvol)]:\n",
    "        for mask in masks:\n",
    "            code, data = mask[\"code\"], mask[\"data\"]\n",
    "            region = np.multiply(data, volume)                                                                                                                                                                                                                                                                                                                    \n",
    "            activations[\"mean_%s_%s\" % (code, label)] = np.mean( np.multiply(gvol, region) )\n",
    "    return activations\n",
    "\n",
    "def at_most_level(num, filepath):\n",
    "    name = basename(filepath)\n",
    "    t = int(name.split(\".\")[0].split(\"_\")[0])\n",
    "    if t > 50:\n",
    "        return False\n",
    "    if \"_\" not in name:\n",
    "        return 0 <= num\n",
    "    return len(name.split(\"_\").replace(\"s.npy\")) <= num\n",
    "\n",
    "def guess_volume(\n",
    "        pvol, nvol, gvol, t_index, stable_x,\n",
    "        model, masks, norm_info,\n",
    "    ):\n",
    "    mask = nib.load(\"/Users/pstetz/Desktop/confidential/.project/interpolate/MNI152_T1_2mm_brain_mask.nii.gz\").get_fdata()\n",
    "    volume = np.zeros(shape=pvol.shape)\n",
    "    x_n, y_n, z_n = volume.shape\n",
    "    stable_x = stable_x.append([stable_x] * (z_n - 1), ignore_index=True)\n",
    "    for i in tqdm(range(x_n)):\n",
    "        for j in range(y_n):\n",
    "            x = stable_x.copy()\n",
    "            x[\"x\"], x[\"y\"], x[\"t\"] = i, j, t_index\n",
    "            x[\"z\"] = list(range(z_n)) # FIXME: double check that this is correct for z\n",
    "            for m in masks:\n",
    "                x[\"in_%s\" % m[\"code\"]] = [int(bool(m[\"data\"][i, j, k])) for k in range(z_n)]\n",
    "            norm_x = norm_features(x, norm_info)\n",
    "            for label, data in [(\"prev\", pvol), (\"next\", nvol), (\"grey\", gvol)]:\n",
    "                norm_x[label] = data[i, j, :]\n",
    "            volume[i, j, :] = model.predict(norm_x)\n",
    "    return np.multiply(volume, mask)"
   ]
  },
  {
   "cell_type": "markdown",
   "metadata": {},
   "source": [
    "### Main\n",
    "\n",
    "Rerunning will decrease the TR by 1/2"
   ]
  },
  {
   "cell_type": "code",
   "execution_count": null,
   "metadata": {},
   "outputs": [
    {
     "name": "stdout",
     "output_type": "stream",
     "text": [
      "Interpolating between files \n",
      "\t/Users/pstetz/Desktop/confidential/.project/interpolate/volumes/000.npy\n",
      "\t/Users/pstetz/Desktop/confidential/.project/interpolate/volumes/001.npy \n",
      "\n",
      "to create\n",
      "\t/Users/pstetz/Desktop/confidential/.project/interpolate/volumes/000_zs.npy\n",
      "\n"
     ]
    },
    {
     "data": {
      "application/vnd.jupyter.widget-view+json": {
       "model_id": "50eed59b2ecf40c2a15c9a557ffa5ace",
       "version_major": 2,
       "version_minor": 0
      },
      "text/plain": [
       "HBox(children=(FloatProgress(value=0.0, max=91.0), HTML(value='')))"
      ]
     },
     "metadata": {},
     "output_type": "display_data"
    },
    {
     "name": "stdout",
     "output_type": "stream",
     "text": [
      "\n",
      "Interpolating between files \n",
      "\t/Users/pstetz/Desktop/confidential/.project/interpolate/volumes/001.npy\n",
      "\t/Users/pstetz/Desktop/confidential/.project/interpolate/volumes/002.npy \n",
      "\n",
      "to create\n",
      "\t/Users/pstetz/Desktop/confidential/.project/interpolate/volumes/001_zs.npy\n",
      "\n"
     ]
    },
    {
     "data": {
      "application/vnd.jupyter.widget-view+json": {
       "model_id": "e72c9a6d184c4f428f2cc4267e9c3946",
       "version_major": 2,
       "version_minor": 0
      },
      "text/plain": [
       "HBox(children=(FloatProgress(value=0.0, max=91.0), HTML(value='')))"
      ]
     },
     "metadata": {},
     "output_type": "display_data"
    },
    {
     "name": "stdout",
     "output_type": "stream",
     "text": [
      "\n",
      "Interpolating between files \n",
      "\t/Users/pstetz/Desktop/confidential/.project/interpolate/volumes/002.npy\n",
      "\t/Users/pstetz/Desktop/confidential/.project/interpolate/volumes/003.npy \n",
      "\n",
      "to create\n",
      "\t/Users/pstetz/Desktop/confidential/.project/interpolate/volumes/002_zs.npy\n",
      "\n"
     ]
    },
    {
     "data": {
      "application/vnd.jupyter.widget-view+json": {
       "model_id": "c4fdc4c54e334d52a7ee1f9749204e56",
       "version_major": 2,
       "version_minor": 0
      },
      "text/plain": [
       "HBox(children=(FloatProgress(value=0.0, max=91.0), HTML(value='')))"
      ]
     },
     "metadata": {},
     "output_type": "display_data"
    },
    {
     "name": "stdout",
     "output_type": "stream",
     "text": [
      "\n",
      "Interpolating between files \n",
      "\t/Users/pstetz/Desktop/confidential/.project/interpolate/volumes/003.npy\n",
      "\t/Users/pstetz/Desktop/confidential/.project/interpolate/volumes/004.npy \n",
      "\n",
      "to create\n",
      "\t/Users/pstetz/Desktop/confidential/.project/interpolate/volumes/003_zs.npy\n",
      "\n"
     ]
    },
    {
     "data": {
      "application/vnd.jupyter.widget-view+json": {
       "model_id": "8e3735fabc604a8e8004830e927c90af",
       "version_major": 2,
       "version_minor": 0
      },
      "text/plain": [
       "HBox(children=(FloatProgress(value=0.0, max=91.0), HTML(value='')))"
      ]
     },
     "metadata": {},
     "output_type": "display_data"
    }
   ],
   "source": [
    "volume_dir = join(root, \"interpolate/volumes\")\n",
    "\n",
    "record = 291 # CONN152 gonogo\n",
    "TR = 2 # seconds\n",
    "subject_df = pd.DataFrame(df.iloc[record][train_cols]).T.reset_index(drop=True)\n",
    "\n",
    "for lvl in range(4):\n",
    "    files = list(sorted(glob(join(volume_dir, \"*\"))))\n",
    "    files = [f for f in files if at_most_level(lvl, f)]\n",
    "    for i in range(len(files) - 1):\n",
    "        file1, file2 = files[i], files[i + 1]\n",
    "        dst = _inbetween_file(file1, file2)\n",
    "        if isfile(dst):\n",
    "            print(\"%s already exists.  Skipping\")\n",
    "        print(\"Interpolating between files \\n\\t%s\\n\\t%s \\n\\nto create\\n\\t%s\" % (file1, file2, dst))\n",
    "        print(\"\")\n",
    "        pvol = np.load(file1)\n",
    "        nvol = np.load(file2)\n",
    "        t = (_get_time(file1, TR=TR) + _get_time(file2, TR=TR)) / 2\n",
    "\n",
    "        onsets = last_onset(onset_df, \"gonogo\", t).reset_index(drop=True)\n",
    "        mask_activations = mean_activation(masks, pvol, nvol, gvol)\n",
    "        stable_x = pd.concat([subject_df, onsets], axis=1)\n",
    "        for k, v in mask_activations.items():\n",
    "            stable_x[k] = v\n",
    "        for feat in stable_x.columns:\n",
    "            stable_x[feat] = stable_x[feat].astype(np.float64)\n",
    "\n",
    "        volume = guess_volume(pvol, nvol, gvol, t * TR, stable_x, model, masks, norm_info)\n",
    "        np.save(dst, volume)"
   ]
  },
  {
   "cell_type": "markdown",
   "metadata": {},
   "source": [
    "### Initialize volumes\n",
    "\n",
    "Run this first before everything else"
   ]
  },
  {
   "cell_type": "code",
   "execution_count": null,
   "metadata": {},
   "outputs": [],
   "source": [
    "def _init_func(filepath, output_dir):\n",
    "    data = nib.load(filepath).get_fdata()\n",
    "    N = data.shape[3]\n",
    "    for i in tqdm(range(N)):\n",
    "        volume = data[:, :, :, i]\n",
    "        dst = join(output_dir, \"%03d\" % i)\n",
    "        np.save(dst, volume)\n",
    "\n",
    "raw = \"/Users/pstetz/Desktop/confidential/.project/interpolate/raw/conn152\"\n",
    "dst_dir = \"/Users/pstetz/Desktop/confidential/.project/interpolate/volumes\"\n",
    "\n",
    "task_dir = join(raw, \"gonogo\")\n",
    "func = join(task_dir, \"normalized.nii.gz\")\n",
    "_init_func(func, dst_dir)"
   ]
  }
 ],
 "metadata": {
  "kernelspec": {
   "display_name": "Python 3",
   "language": "python",
   "name": "python3"
  },
  "language_info": {
   "codemirror_mode": {
    "name": "ipython",
    "version": 3
   },
   "file_extension": ".py",
   "mimetype": "text/x-python",
   "name": "python",
   "nbconvert_exporter": "python",
   "pygments_lexer": "ipython3",
   "version": "3.6.7"
  }
 },
 "nbformat": 4,
 "nbformat_minor": 2
}
