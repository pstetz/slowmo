{
 "cells": [
  {
   "cell_type": "markdown",
   "metadata": {},
   "source": [
    "### Imports"
   ]
  },
  {
   "cell_type": "code",
   "execution_count": 31,
   "metadata": {},
   "outputs": [],
   "source": [
    "import os\n",
    "from pylab import *\n",
    "\n",
    "from os.path import basename, dirname, isfile, isdir, join\n",
    "from glob import glob\n",
    "import numpy as np\n",
    "import nibabel as nib\n",
    "from tqdm import tqdm_notebook as tqdm\n",
    "import matplotlib.animation as animation"
   ]
  },
  {
   "cell_type": "markdown",
   "metadata": {},
   "source": [
    "### Load sample image"
   ]
  },
  {
   "cell_type": "code",
   "execution_count": 2,
   "metadata": {},
   "outputs": [],
   "source": [
    "# ### Load image\n",
    "# filepath = \"/Volumes/hd_4tb/raw/connhc/000/conn030/gonogo/normalized.nii.gz\"\n",
    "# image    = nib.as_closest_canonical(nib.load(filepath))\n",
    "# data     = image.get_data()"
   ]
  },
  {
   "cell_type": "markdown",
   "metadata": {},
   "source": [
    "### Helper function\n",
    "\n",
    "fps.  Frames per second"
   ]
  },
  {
   "cell_type": "code",
   "execution_count": 3,
   "metadata": {},
   "outputs": [],
   "source": [
    "dpi = 100\n",
    "\n",
    "def get_data_slice(data, axis):\n",
    "    axis = axis.lower()\n",
    "    assert axis in {\"x\", \"y\", \"z\"}, \"invalid axis %s\" % axis\n",
    "    if axis == \"x\":\n",
    "        L = data.shape[0] // 2\n",
    "        return data[L, :, :]\n",
    "    elif axis == \"y\":\n",
    "        L = data.shape[1] // 2\n",
    "        return data[:, L, :]\n",
    "    elif axis == \"z\":\n",
    "        L = data.shape[2] // 2\n",
    "        return data[:, :, L]\n",
    "\n",
    "def animate_nii(files, save_path, axis=\"z\", num_dummies=3, TR=2, speed=1, norm=True):\n",
    "    animate_frames(files, save_path, axis=axis, fps = (1 / TR) * speed)\n",
    "\n",
    "def _create_plt_figure():\n",
    "    fig = plt.figure()\n",
    "    ax = fig.add_subplot(111)\n",
    "    ax.set_aspect('equal')\n",
    "    ax.get_xaxis().set_visible(False)\n",
    "    ax.get_yaxis().set_visible(False)\n",
    "    return fig, ax\n",
    "    \n",
    "def _load_frame(files, n, axis=None):\n",
    "    data = np.load(files[n])\n",
    "    frame = get_data_slice(data, axis)\n",
    "    return np.ma.masked_where(frame == 0, frame)\n",
    "\n",
    "def _flash(filepath):\n",
    "    if filepath.endswith(\"s.npy\"):\n",
    "        return False\n",
    "    return True\n",
    "\n",
    "def at_most_level(num, filepath, low, high):\n",
    "    name = basename(filepath)\n",
    "    t = int(name.split(\".\")[0].split(\"_\")[0])                                                                                                                                                                                                                                                                                                                           \n",
    "    if t < low or t > high:\n",
    "        return False\n",
    "    if \"_\" not in name:\n",
    "        return 0 <= num \n",
    "    return len(name.split(\"_\")[1].replace(\"s.npy\", \"\")) <= num\n",
    "\n",
    "def animate_frames(files, save_path, axis=\"z\", fps = 30, speed = 1):\n",
    "    fps = fps * speed\n",
    "    N = len(files)\n",
    "    fig, ax = _create_plt_figure()\n",
    "    \n",
    "    cmap = plt.cm.RdBu_r\n",
    "    cmap.set_bad(\"yellow\")\n",
    "    \n",
    "    frame = _load_frame(files, 0, axis=axis)\n",
    "    im = ax.imshow(frame, cmap=cmap)\n",
    "\n",
    "    fig.set_size_inches([5,5])\n",
    "\n",
    "    tight_layout()\n",
    "\n",
    "    def update_img(n):\n",
    "        frame = _load_frame(files, n, axis=axis)\n",
    "        im.set_data(frame)\n",
    "        if _flash(files[n]):\n",
    "            cmap.set_bad(\"yellow\")\n",
    "        else:\n",
    "            cmap.set_bad(\"black\")\n",
    "        im.set_cmap(cmap)\n",
    "        return im\n",
    "\n",
    "    ani = animation.FuncAnimation(fig, update_img, N, interval=fps)\n",
    "    writer = animation.writers[\"ffmpeg\"](fps=fps)\n",
    "\n",
    "    ani.save(save_path, writer=writer, dpi=dpi)\n",
    "    plt.close()"
   ]
  },
  {
   "cell_type": "markdown",
   "metadata": {},
   "source": [
    "### Main"
   ]
  },
  {
   "cell_type": "code",
   "execution_count": 42,
   "metadata": {},
   "outputs": [],
   "source": [
    "TR = .25\n",
    "directory = \"volumes_290\"\n",
    "files = glob(\"/Users/pstetz/Desktop/confidential/.project/interpolate/mse/processed_%s/*\" % directory)\n",
    "files = [f for f in files if at_most_level(3, f, 100, 135)]\n",
    "files = list(sorted(files))\n",
    "save_path = \"/Users/pstetz/Desktop/axis_%s.mp4\"\n",
    "for axis in (\"x\", \"y\", \"z\"):\n",
    "    animate_nii(files, save_path % axis, axis = axis, TR=TR, speed=1)"
   ]
  },
  {
   "cell_type": "markdown",
   "metadata": {},
   "source": [
    "### Scale guesses"
   ]
  },
  {
   "cell_type": "code",
   "execution_count": 38,
   "metadata": {},
   "outputs": [
    {
     "name": "stderr",
     "output_type": "stream",
     "text": [
      "/Users/pstetz/anaconda3/envs/tf/lib/python3.6/site-packages/ipykernel_launcher.py:9: TqdmDeprecationWarning: This function will be removed in tqdm==5.0.0\n",
      "Please use `tqdm.notebook.tqdm` instead of `tqdm.tqdm_notebook`\n",
      "  if __name__ == '__main__':\n"
     ]
    },
    {
     "data": {
      "application/vnd.jupyter.widget-view+json": {
       "model_id": "8a7f8ef5ac244a1cb8f82d2df26a709d",
       "version_major": 2,
       "version_minor": 0
      },
      "text/plain": [
       "HBox(children=(FloatProgress(value=0.0, max=712.0), HTML(value='')))"
      ]
     },
     "metadata": {},
     "output_type": "display_data"
    },
    {
     "name": "stdout",
     "output_type": "stream",
     "text": [
      "\n"
     ]
    }
   ],
   "source": [
    "from os.path import basename, join, isfile\n",
    "\n",
    "directory = \"volumes_290\"\n",
    "input_dir = \"/Users/pstetz/Desktop/confidential/.project/interpolate/mse/%s/\" % directory\n",
    "output_dir = \"/Users/pstetz/Desktop/confidential/.project/interpolate/mse/processed_%s/\" % directory\n",
    "mask_file = \"/Users/pstetz/Desktop/confidential/.project/interpolate/MNI152_T1_2mm_brain_mask.nii.gz\"\n",
    "mask_data = nib.load(mask_file).get_fdata()\n",
    "\n",
    "for filepath in tqdm(glob(join(input_dir, \"*\"))):\n",
    "    name = basename(filepath)\n",
    "    dst = join(output_dir, name)\n",
    "    if isfile(dst):\n",
    "        continue\n",
    "    data = np.load(filepath)\n",
    "    data = np.multiply(data, mask_data)\n",
    "    _mean = np.mean(data)\n",
    "    _std = np.std(data)\n",
    "    data[:, :, :] = np.add(np.divide(np.subtract(data[:, :, :], _mean), _std), _mean)\n",
    "    data = np.multiply(data, mask_data)\n",
    "    np.save(dst, data)"
   ]
  },
  {
   "cell_type": "markdown",
   "metadata": {},
   "source": [
    "### cmap colors"
   ]
  },
  {
   "cell_type": "code",
   "execution_count": 5,
   "metadata": {},
   "outputs": [],
   "source": [
    "colors = [\n",
    "            'binary', 'gist_yarg', 'gist_gray', 'gray', 'bone', 'pink',\n",
    "            'spring', 'summer', 'autumn', 'winter', 'cool', 'Wistia',\n",
    "            'hot', 'afmhot', 'gist_heat', 'copper', 'PiYG', 'PRGn', 'BrBG', 'PuOr', 'RdGy', 'RdBu',\n",
    "            'RdYlBu', 'RdYlGn', 'Spectral', 'coolwarm', 'bwr', 'seismic',\n",
    "            'twilight', 'twilight_shifted', 'hsv',\n",
    "            'Pastel1', 'Pastel2', 'Paired', 'Accent',\n",
    "            'Dark2', 'Set1', 'Set2', 'Set3',\n",
    "            'tab10', 'tab20', 'tab20b', 'tab20c'\n",
    "]"
   ]
  },
  {
   "cell_type": "code",
   "execution_count": null,
   "metadata": {
    "collapsed": true
   },
   "outputs": [],
   "source": []
  }
 ],
 "metadata": {
  "kernelspec": {
   "display_name": "Python 3",
   "language": "python",
   "name": "python3"
  },
  "language_info": {
   "codemirror_mode": {
    "name": "ipython",
    "version": 3
   },
   "file_extension": ".py",
   "mimetype": "text/x-python",
   "name": "python",
   "nbconvert_exporter": "python",
   "pygments_lexer": "ipython3",
   "version": "3.7.2"
  }
 },
 "nbformat": 4,
 "nbformat_minor": 2
}
