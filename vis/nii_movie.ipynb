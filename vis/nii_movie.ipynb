{
 "cells": [
  {
   "cell_type": "markdown",
   "metadata": {},
   "source": [
    "### Imports"
   ]
  },
  {
   "cell_type": "code",
   "execution_count": 10,
   "metadata": {},
   "outputs": [],
   "source": [
    "import os\n",
    "from pylab import *\n",
    "\n",
    "import numpy as np\n",
    "import nibabel as nib\n",
    "from tqdm import tqdm_notebook as tqdm\n",
    "import matplotlib.animation as animation"
   ]
  },
  {
   "cell_type": "markdown",
   "metadata": {},
   "source": [
    "### Load sample image"
   ]
  },
  {
   "cell_type": "code",
   "execution_count": 2,
   "metadata": {
    "collapsed": true
   },
   "outputs": [],
   "source": [
    "### Config\n",
    "root         = \"/Volumes/group/PANLab_Datasets\"\n",
    "project      = \"ENGAGE\"\n",
    "subject      = \"LA13012\"\n",
    "time_session = \"000_data_archive\"\n",
    "task         = \"100_fMRI/101_fMRI_preproc_GO_NO_GO/s02_globalremoved_func_data.nii\"\n",
    "\n",
    "### Load image\n",
    "filepath = os.path.join(root, project, \"data\", subject, time_session, task)\n",
    "image    = nib.as_closest_canonical(nib.load(filepath))\n",
    "data     = image.get_data()"
   ]
  },
  {
   "cell_type": "markdown",
   "metadata": {},
   "source": [
    "### Helper function\n",
    "\n",
    "fps.  Frames per second\n",
    "\n",
    "<b>TODO:</b>\n",
    "- include_flash.  Flashes when the images updates.  Should increase fps and flash every module time unit\n",
    "- normalize and threshold activations"
   ]
  },
  {
   "cell_type": "code",
   "execution_count": 13,
   "metadata": {},
   "outputs": [],
   "source": [
    "dpi = 100\n",
    "\n",
    "def get_data_slice(data, axis):\n",
    "    axis = axis.lower()\n",
    "    assert axis in {\"x\", \"y\", \"z\"}, \"invalid axis %s\" % axis\n",
    "    if axis == \"x\":\n",
    "        L = data.shape[0] // 2\n",
    "        return data[L, :, :, :]\n",
    "    elif axis == \"y\":\n",
    "        L = data.shape[1] // 2\n",
    "        return data[:, L, :, :]\n",
    "    elif axis == \"z\":\n",
    "        L = data.shape[2] // 2\n",
    "        return data[:, :, L, :]\n",
    "\n",
    "def cut_dummies(data, num_dummies):\n",
    "    return data[:, :, :, num_dummies:]\n",
    "\n",
    "def norm_data(data):\n",
    "    std  = np.std(data, axis=3)\n",
    "    mean = np.mean(data, axis=3)\n",
    "    for time_point in range(data.shape[3]):\n",
    "        std[std == 0] = 1\n",
    "        data[:, :, :, time_point] = (data[:, :, :, time_point] - mean) / std\n",
    "    return data\n",
    "\n",
    "def thresh_data(data):\n",
    "    data[(data < 1) & (data > -1)] = 0\n",
    "    return data\n",
    "\n",
    "def animate_nii(data, save_path, axis=\"x\", num_dummies=3, TR=2, speed=1, norm=True, cmap=\"summer\"):\n",
    "    data       = cut_dummies(data, num_dummies)\n",
    "    if norm:\n",
    "        data = norm_data(data)\n",
    "        data = thresh_data(data)\n",
    "    data_slice = get_data_slice(data, axis)\n",
    "    animate_frames(data_slice, save_path, cmap, fps = 1 / TR)\n",
    "\n",
    "def animate_frames(frames, save_path, cmap, fps = 30, speed = 1):\n",
    "    fps = fps * speed\n",
    "    \n",
    "    N = frames.shape[2]\n",
    "    \n",
    "    fig = plt.figure()\n",
    "    ax = fig.add_subplot(111)\n",
    "    ax.set_aspect('equal')\n",
    "    ax.get_xaxis().set_visible(False)\n",
    "    ax.get_yaxis().set_visible(False)\n",
    "\n",
    "    im = ax.imshow(frames[:, :, 0], cmap=cmap)\n",
    "\n",
    "    fig.set_size_inches([5,5])\n",
    "\n",
    "    tight_layout()\n",
    "\n",
    "    def update_img(n):\n",
    "        im.set_data(frames[:, :, n])\n",
    "        return im\n",
    "\n",
    "    ani = animation.FuncAnimation(fig, update_img, N, interval=fps)\n",
    "    writer = animation.writers['ffmpeg'](fps=fps)\n",
    "\n",
    "    ani.save(save_path, writer=writer, dpi=dpi)\n",
    "    plt.close()"
   ]
  },
  {
   "cell_type": "markdown",
   "metadata": {},
   "source": [
    "### Main\n",
    "\n",
    "Steps:\n",
    "\n",
    "- Raw image (not interesting)\n",
    "- Speed up (still not interesting)\n",
    "- Normalize (getting somewhere)\n",
    "- Threshold (to remove noise, very exciting!)"
   ]
  },
  {
   "cell_type": "code",
   "execution_count": 19,
   "metadata": {},
   "outputs": [
    {
     "name": "stderr",
     "output_type": "stream",
     "text": [
      "/anaconda3/lib/python3.6/site-packages/numpy/core/_methods.py:143: RuntimeWarning: invalid value encountered in sqrt\n",
      "  ret = um.sqrt(ret, out=ret)\n",
      "/anaconda3/lib/python3.6/site-packages/tqdm/_monitor.py:89: TqdmSynchronisationWarning: Set changed size during iteration (see https://github.com/tqdm/tqdm/issues/481)\n",
      "  TqdmSynchronisationWarning)\n"
     ]
    }
   ],
   "source": [
    "data_copy = data.copy()\n",
    "data_copy[np.abs(data_copy) < 0.01] = 0\n",
    "\n",
    "colors = ['binary', 'gist_yarg', 'gist_gray', 'gray', 'bone', 'pink',\n",
    "            'spring', 'summer', 'autumn', 'winter', 'cool', 'Wistia',\n",
    "            'hot', 'afmhot', 'gist_heat', 'copper', 'PiYG', 'PRGn', 'BrBG', 'PuOr', 'RdGy', 'RdBu',\n",
    "            'RdYlBu', 'RdYlGn', 'Spectral', 'coolwarm', 'bwr', 'seismic',\n",
    "         'twilight', 'twilight_shifted', 'hsv',\n",
    "         'Pastel1', 'Pastel2', 'Paired', 'Accent',\n",
    "                        'Dark2', 'Set1', 'Set2', 'Set3',\n",
    "                        'tab10', 'tab20', 'tab20b', 'tab20c'\n",
    "         ]\n",
    "\n",
    "def get_cmap():\n",
    "    cmap = plt.cm.seismic\n",
    "    cmap.set_bad(color=\"k\")\n",
    "    return cmap\n",
    "\n",
    "# for cmap in tqdm(colors):\n",
    "TR = 0.1\n",
    "cmap = get_cmap()\n",
    "save_path = \"/Users/pbezuhov/Desktop/thresh.mp4\"\n",
    "animate_nii(data_copy, save_path, axis = \"z\", TR=TR, speed=20, cmap = cmap)"
   ]
  },
  {
   "cell_type": "code",
   "execution_count": null,
   "metadata": {
    "collapsed": true
   },
   "outputs": [],
   "source": []
  }
 ],
 "metadata": {
  "kernelspec": {
   "display_name": "Python 3",
   "language": "python",
   "name": "python3"
  },
  "language_info": {
   "codemirror_mode": {
    "name": "ipython",
    "version": 3
   },
   "file_extension": ".py",
   "mimetype": "text/x-python",
   "name": "python",
   "nbconvert_exporter": "python",
   "pygments_lexer": "ipython3",
   "version": "3.6.8"
  }
 },
 "nbformat": 4,
 "nbformat_minor": 2
}
