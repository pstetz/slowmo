{
 "cells": [
  {
   "cell_type": "markdown",
   "metadata": {},
   "source": [
    "### Imports"
   ]
  },
  {
   "cell_type": "code",
   "execution_count": 1,
   "metadata": {},
   "outputs": [],
   "source": [
    "import os\n",
    "from pylab import *\n",
    "\n",
    "import numpy as np\n",
    "import nibabel as nib\n",
    "from tqdm import tqdm_notebook as tqdm\n",
    "import matplotlib.animation as animation"
   ]
  },
  {
   "cell_type": "markdown",
   "metadata": {},
   "source": [
    "### Load sample image"
   ]
  },
  {
   "cell_type": "code",
   "execution_count": 2,
   "metadata": {},
   "outputs": [],
   "source": [
    "### Load image\n",
    "filepath = \"/Volumes/hd_4tb/raw/connhc/000/conn030/workingmemMB/normalized.nii.gz\"\n",
    "image    = nib.as_closest_canonical(nib.load(filepath))\n",
    "data     = image.get_data()"
   ]
  },
  {
   "cell_type": "markdown",
   "metadata": {},
   "source": [
    "### Helper function\n",
    "\n",
    "fps.  Frames per second"
   ]
  },
  {
   "cell_type": "code",
   "execution_count": 3,
   "metadata": {},
   "outputs": [],
   "source": [
    "dpi = 100\n",
    "\n",
    "def get_data_slice(data, axis):\n",
    "    axis = axis.lower()\n",
    "    assert axis in {\"x\", \"y\", \"z\"}, \"invalid axis %s\" % axis\n",
    "    if axis == \"x\":\n",
    "        L = data.shape[0] // 2\n",
    "        return data[L, :, :, :]\n",
    "    elif axis == \"y\":\n",
    "        L = data.shape[1] // 2\n",
    "        return data[:, L, :, :]\n",
    "    elif axis == \"z\":\n",
    "        L = data.shape[2] // 2\n",
    "        return data[:, :, L, :]\n",
    "\n",
    "def animate_nii(data, save_path, axis=\"x\", num_dummies=3, TR=2, speed=1, norm=True):\n",
    "    data_slice = get_data_slice(data, axis)\n",
    "    animate_frames(data_slice, save_path, fps = 1 / TR)\n",
    "\n",
    "def _create_plt_figure():\n",
    "    fig = plt.figure()\n",
    "    ax = fig.add_subplot(111)\n",
    "    ax.set_aspect('equal')\n",
    "    ax.get_xaxis().set_visible(False)\n",
    "    ax.get_yaxis().set_visible(False)\n",
    "    return fig, ax\n",
    "    \n",
    "def _load_frame(frames, n):\n",
    "    frame = frames[:, :, n]\n",
    "    return np.ma.masked_where(frame == 0, frame)\n",
    "\n",
    "def _flash(n):\n",
    "    if n % 4 == 0:\n",
    "        return True\n",
    "    return False\n",
    "\n",
    "def animate_frames(frames, save_path, fps = 30, speed = 1):\n",
    "    fps = fps * speed\n",
    "    N = frames.shape[2]\n",
    "    fig, ax = _create_plt_figure()\n",
    "    \n",
    "    cmap = plt.cm.RdBu\n",
    "    cmap.set_bad(\"black\")\n",
    "    \n",
    "    frame = _load_frame(frames, 0)\n",
    "    im = ax.imshow(frame, cmap=cmap)\n",
    "\n",
    "    fig.set_size_inches([5,5])\n",
    "\n",
    "    tight_layout()\n",
    "\n",
    "    def update_img(n):\n",
    "        frame = _load_frame(frames, n)\n",
    "        im.set_data(frame)\n",
    "        if _flash(n):\n",
    "            cmap.set_bad(\"yellow\")\n",
    "        else:\n",
    "            cmap.set_bad(\"black\")\n",
    "        im.set_cmap(cmap)\n",
    "        return im\n",
    "\n",
    "    ani = animation.FuncAnimation(fig, update_img, N, interval=fps)\n",
    "    writer = animation.writers[\"ffmpeg\"](fps=fps)\n",
    "\n",
    "    ani.save(save_path, writer=writer, dpi=dpi)\n",
    "    plt.close()"
   ]
  },
  {
   "cell_type": "markdown",
   "metadata": {},
   "source": [
    "### Main"
   ]
  },
  {
   "cell_type": "code",
   "execution_count": 4,
   "metadata": {},
   "outputs": [],
   "source": [
    "TR = 0.1\n",
    "save_path = \"/Users/pstetz/Desktop/thresh.mp4\"\n",
    "frames = animate_nii(data, save_path, axis = \"z\", TR=TR, speed=20)"
   ]
  },
  {
   "cell_type": "markdown",
   "metadata": {},
   "source": [
    "### cmap colors"
   ]
  },
  {
   "cell_type": "code",
   "execution_count": 5,
   "metadata": {},
   "outputs": [],
   "source": [
    "colors = [\n",
    "            'binary', 'gist_yarg', 'gist_gray', 'gray', 'bone', 'pink',\n",
    "            'spring', 'summer', 'autumn', 'winter', 'cool', 'Wistia',\n",
    "            'hot', 'afmhot', 'gist_heat', 'copper', 'PiYG', 'PRGn', 'BrBG', 'PuOr', 'RdGy', 'RdBu',\n",
    "            'RdYlBu', 'RdYlGn', 'Spectral', 'coolwarm', 'bwr', 'seismic',\n",
    "            'twilight', 'twilight_shifted', 'hsv',\n",
    "            'Pastel1', 'Pastel2', 'Paired', 'Accent',\n",
    "            'Dark2', 'Set1', 'Set2', 'Set3',\n",
    "            'tab10', 'tab20', 'tab20b', 'tab20c'\n",
    "]"
   ]
  },
  {
   "cell_type": "code",
   "execution_count": null,
   "metadata": {
    "collapsed": true
   },
   "outputs": [],
   "source": []
  }
 ],
 "metadata": {
  "kernelspec": {
   "display_name": "Python 3",
   "language": "python",
   "name": "python3"
  },
  "language_info": {
   "codemirror_mode": {
    "name": "ipython",
    "version": 3
   },
   "file_extension": ".py",
   "mimetype": "text/x-python",
   "name": "python",
   "nbconvert_exporter": "python",
   "pygments_lexer": "ipython3",
   "version": "3.7.2"
  }
 },
 "nbformat": 4,
 "nbformat_minor": 2
}
