{
 "cells": [
  {
   "cell_type": "markdown",
   "metadata": {},
   "source": [
    "### Imports"
   ]
  },
  {
   "cell_type": "code",
   "execution_count": 1,
   "metadata": {},
   "outputs": [],
   "source": [
    "import os\n",
    "import shutil\n",
    "import numpy as np\n",
    "import pandas as pd\n",
    "from glob import glob\n",
    "from tqdm import tqdm_notebook as tqdm\n",
    "from os.path import basename, dirname, isdir, isfile, join\n",
    "\n",
    "import matplotlib.pyplot as plt\n",
    "import matplotlib.image as mpimg\n",
    "%matplotlib inline\n",
    "import seaborn as sns\n",
    "sns.set()"
   ]
  },
  {
   "cell_type": "markdown",
   "metadata": {},
   "source": [
    "### Settings"
   ]
  },
  {
   "cell_type": "code",
   "execution_count": 2,
   "metadata": {},
   "outputs": [],
   "source": [
    "CONFIG = {\n",
    "    \"gonogo\": {\"DUR\": 0.5, \"OFF\": 0.75},\n",
    "    \"conscious\": {\"DUR\": 0.5, \"OFF\": 0.75},\n",
    "    # FIXME: nonconscious task sounds harder\n",
    "}"
   ]
  },
  {
   "cell_type": "markdown",
   "metadata": {},
   "source": [
    "### OS"
   ]
  },
  {
   "cell_type": "code",
   "execution_count": 3,
   "metadata": {},
   "outputs": [],
   "source": [
    "def _makedir(dst_dir):\n",
    "    if not isdir(dst_dir):\n",
    "        os.makedirs(dst_dir)\n",
    "        \n",
    "def _copy(src, dst):\n",
    "    _makedir(dirname(dst))\n",
    "    if isfile(dst):\n",
    "        return\n",
    "    shutil.copy(src, dst)"
   ]
  },
  {
   "cell_type": "markdown",
   "metadata": {},
   "source": [
    "### Generate image"
   ]
  },
  {
   "cell_type": "code",
   "execution_count": 4,
   "metadata": {},
   "outputs": [],
   "source": [
    "def _stim_image(filepath):\n",
    "    image = mpimg.imread(filepath)\n",
    "    return image\n",
    "\n",
    "def _blank_image(filepath):\n",
    "    shape = _stim_image(filepath).shape\n",
    "    image = np.zeros(shape)\n",
    "    return image"
   ]
  },
  {
   "cell_type": "markdown",
   "metadata": {},
   "source": [
    "### Read stimulus order"
   ]
  },
  {
   "cell_type": "code",
   "execution_count": 5,
   "metadata": {},
   "outputs": [],
   "source": [
    "def _save(image, dst):\n",
    "    ### Plotting\n",
    "    imgplot = plt.imshow(image)\n",
    "    plt.xticks([])\n",
    "    plt.yticks([])\n",
    "    \n",
    "    ### Saving\n",
    "    _makedir(dirname(dst))\n",
    "    plt.savefig(dst)\n",
    "\n",
    "def _last_onset(onset_df, t):\n",
    "    tmp = onset_df.copy()\n",
    "    tmp = tmp[tmp.category != \"keypress\"].reset_index(drop=True)\n",
    "    tmp = tmp[tmp[\"ons\"] < t]\n",
    "    tmp.sort_values(\"ons\", ascending=True, inplace=True)\n",
    "    if len(tmp) < 1:\n",
    "        return 0, -100\n",
    "    return tmp.shape[0] - 1, tmp.iloc[-1][\"ons\"]\n",
    "\n",
    "def _load_image(image_path, is_blank, image_cache):\n",
    "    if is_blank:\n",
    "        if not \"blank\" in image_cache:\n",
    "            image_cache[\"blank\"] = _blank_image(image_path)\n",
    "        return image_cache[\"blank\"]\n",
    "    else:\n",
    "        if not image_path in image_cache:\n",
    "            image_cache[image_path] = _stim_image(image_path)\n",
    "        return image_cache[image_path]"
   ]
  },
  {
   "cell_type": "markdown",
   "metadata": {},
   "source": [
    "### Main"
   ]
  },
  {
   "cell_type": "code",
   "execution_count": 15,
   "metadata": {},
   "outputs": [],
   "source": [
    "def display_images(root, onset_df, dst_dir, task, fps=4, start_t=0, end_t=308):\n",
    "    DUR, OFF = CONFIG[task][\"DUR\"], CONFIG[task][\"OFF\"]\n",
    "    N = fps * (end_t - start_t)\n",
    "    image_cache = {}\n",
    "    \n",
    "    stim = pd.read_csv(join(root, \"stimulus_order.csv\"))\n",
    "    \n",
    "    last_image = None\n",
    "    for i, t in tqdm(enumerate(np.linspace(start_t, end_t, N)), total=N):\n",
    "        dst = join(dst_dir, \"img_%05d.png\" % i)\n",
    "        if not isfile(dst):\n",
    "            index, last_onset = _last_onset(onset_df, t)\n",
    "            is_blank   = last_onset + DUR > t\n",
    "            if is_blank:\n",
    "#                 image_path = join(root, stim.iloc[index][\"stimulus\"])\n",
    "#                 image      = _load_image(image_path, is_blank, image_cache)\n",
    "#                 _save(image, dst)\n",
    "                last_image = None\n",
    "                _copy(\"/Users/pstetz/Desktop/stimuli/img_00000.png\", dst)\n",
    "            elif last_image is None:\n",
    "                image_path = join(root, stim.iloc[index][\"stimulus\"])\n",
    "                image      = _load_image(image_path, is_blank, image_cache)\n",
    "                _save(image, dst)\n",
    "                last_image = dst\n",
    "            else:\n",
    "                _copy(last_image, dst)\n",
    "                last_image = dst"
   ]
  },
  {
   "cell_type": "markdown",
   "metadata": {},
   "source": [
    "### Create stimuli movie"
   ]
  },
  {
   "cell_type": "code",
   "execution_count": 16,
   "metadata": {
    "scrolled": true
   },
   "outputs": [
    {
     "name": "stderr",
     "output_type": "stream",
     "text": [
      "/Users/pstetz/anaconda3/envs/tf/lib/python3.6/site-packages/ipykernel_launcher.py:9: TqdmDeprecationWarning: This function will be removed in tqdm==5.0.0\n",
      "Please use `tqdm.notebook.tqdm` instead of `tqdm.tqdm_notebook`\n",
      "  if __name__ == '__main__':\n"
     ]
    },
    {
     "data": {
      "application/vnd.jupyter.widget-view+json": {
       "model_id": "6e0a5c034509457cb05df851173cb7f6",
       "version_major": 2,
       "version_minor": 0
      },
      "text/plain": [
       "HBox(children=(FloatProgress(value=0.0, max=280.0), HTML(value='')))"
      ]
     },
     "metadata": {},
     "output_type": "display_data"
    },
    {
     "name": "stdout",
     "output_type": "stream",
     "text": [
      "\n"
     ]
    },
    {
     "data": {
      "image/png": "[encoded data removed]",
      "text/plain": [
       "<Figure size 432x288 with 1 Axes>"
      ]
     },
     "metadata": {},
     "output_type": "display_data"
    }
   ],
   "source": [
    "onset_df = pd.read_csv(\"/Users/pstetz/Desktop/confidential/.project/interpolate/raw/conn152/conscious/onsets.csv\")\n",
    "task = \"/Users/pstetz/Desktop/confidential/MRI-SlowMo/img/conscious\"\n",
    "dst_dir = \"/Users/pstetz/Desktop/stimuli\"\n",
    "display_images(task, onset_df, dst_dir, \"conscious\", start_t=200, end_t=270)"
   ]
  },
  {
   "cell_type": "code",
   "execution_count": null,
   "metadata": {},
   "outputs": [],
   "source": []
  }
 ],
 "metadata": {
  "kernelspec": {
   "display_name": "Python 3",
   "language": "python",
   "name": "python3"
  },
  "language_info": {
   "codemirror_mode": {
    "name": "ipython",
    "version": 3
   },
   "file_extension": ".py",
   "mimetype": "text/x-python",
   "name": "python",
   "nbconvert_exporter": "python",
   "pygments_lexer": "ipython3",
   "version": "3.6.7"
  }
 },
 "nbformat": 4,
 "nbformat_minor": 2
}
